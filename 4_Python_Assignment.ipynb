{
  "nbformat": 4,
  "nbformat_minor": 0,
  "metadata": {
    "colab": {
      "provenance": [],
      "collapsed_sections": [],
      "authorship_tag": "ABX9TyO75vCb36TbNMgWadBr/Jat",
      "include_colab_link": true
    },
    "kernelspec": {
      "name": "python3",
      "display_name": "Python 3"
    },
    "language_info": {
      "name": "python"
    }
  },
  "cells": [
    {
      "cell_type": "markdown",
      "metadata": {
        "id": "view-in-github",
        "colab_type": "text"
      },
      "source": [
        "<a href=\"https://colab.research.google.com/github/nitishainita/Python_assignments/blob/main/4_Python_Assignment.ipynb\" target=\"_parent\"><img src=\"https://colab.research.google.com/assets/colab-badge.svg\" alt=\"Open In Colab\"/></a>"
      ]
    },
    {
      "cell_type": "markdown",
      "source": [
        "Python assignment number-4 by Nitish Kumar"
      ],
      "metadata": {
        "id": "ui2GTvyXhCGI"
      }
    },
    {
      "cell_type": "markdown",
      "source": [
        "## *1. What exactly is []?*"
      ],
      "metadata": {
        "id": "bTuGo9KKooGY"
      }
    },
    {
      "cell_type": "markdown",
      "source": [
        "In Python [] is used to create a list howerver list can also be created using 'list' keyword.\n",
        "\n",
        "example->a=[],Here a is list type of collection and having no value."
      ],
      "metadata": {
        "id": "NmW0-3xYo56V"
      }
    },
    {
      "cell_type": "markdown",
      "source": [
        "**2. In a list of values stored in a variable called spam, how would you assign the value 'hello' as the third value? (Assume [2, 4, 6, 8, 10] are in spam.)**"
      ],
      "metadata": {
        "id": "EA9TZAxYpdus"
      }
    },
    {
      "cell_type": "markdown",
      "source": [
        "spam=[2,4,6,8,10]"
      ],
      "metadata": {
        "id": "U5ZHP9z2p85o"
      }
    },
    {
      "cell_type": "code",
      "source": [
        "spam=[2,4,6,8,10]\n",
        "spam.insert(2,'hello')"
      ],
      "metadata": {
        "id": "XMlqikpXqLQi"
      },
      "execution_count": 5,
      "outputs": []
    },
    {
      "cell_type": "code",
      "source": [
        "spam"
      ],
      "metadata": {
        "colab": {
          "base_uri": "https://localhost:8080/"
        },
        "id": "CCtjfkbIrMF8",
        "outputId": "0e5e2451-b3ec-4bc4-a837-8c1afbf32144"
      },
      "execution_count": 6,
      "outputs": [
        {
          "output_type": "execute_result",
          "data": {
            "text/plain": [
              "[2, 4, 'hello', 6, 8, 10]"
            ]
          },
          "metadata": {},
          "execution_count": 6
        }
      ]
    },
    {
      "cell_type": "markdown",
      "source": [
        "if we want to assign value as third we have to  insert at index 2 because indexing of list is starts with 0."
      ],
      "metadata": {
        "id": "m3J-wsrVrTYK"
      }
    },
    {
      "cell_type": "markdown",
      "source": [
        "## **Let's pretend the spam includes the list ['a', 'b', 'c', 'd'] for the next three queries.**"
      ],
      "metadata": {
        "id": "qo01nTzdr8ub"
      }
    },
    {
      "cell_type": "code",
      "source": [
        "spam=['a','b','c','d']"
      ],
      "metadata": {
        "id": "iogcoED1qZxf"
      },
      "execution_count": 13,
      "outputs": []
    },
    {
      "cell_type": "markdown",
      "source": [
        "**3. What is the value of spam[int(int('3' * 2) / 11)]?**"
      ],
      "metadata": {
        "id": "mM0MrRV8sPvq"
      }
    },
    {
      "cell_type": "code",
      "source": [
        "spam[int(int('3'*2)/11)]"
      ],
      "metadata": {
        "colab": {
          "base_uri": "https://localhost:8080/",
          "height": 35
        },
        "id": "zBd-LbytsHat",
        "outputId": "5e627008-1cd0-42bc-b5e5-ab93a64baf1f"
      },
      "execution_count": 14,
      "outputs": [
        {
          "output_type": "execute_result",
          "data": {
            "text/plain": [
              "'d'"
            ],
            "application/vnd.google.colaboratory.intrinsic+json": {
              "type": "string"
            }
          },
          "metadata": {},
          "execution_count": 14
        }
      ]
    },
    {
      "cell_type": "code",
      "source": [
        "int('3'*2)/11"
      ],
      "metadata": {
        "colab": {
          "base_uri": "https://localhost:8080/"
        },
        "id": "tsQvPvNisyX8",
        "outputId": "cdde6795-a715-43ee-b66d-f03233c4b300"
      },
      "execution_count": 15,
      "outputs": [
        {
          "output_type": "execute_result",
          "data": {
            "text/plain": [
              "3.0"
            ]
          },
          "metadata": {},
          "execution_count": 15
        }
      ]
    },
    {
      "cell_type": "code",
      "source": [
        "'3'*2"
      ],
      "metadata": {
        "colab": {
          "base_uri": "https://localhost:8080/",
          "height": 35
        },
        "id": "eZRVVKhvs-Jo",
        "outputId": "f7844391-389c-4ebb-8635-337e486b8427"
      },
      "execution_count": 16,
      "outputs": [
        {
          "output_type": "execute_result",
          "data": {
            "text/plain": [
              "'33'"
            ],
            "application/vnd.google.colaboratory.intrinsic+json": {
              "type": "string"
            }
          },
          "metadata": {},
          "execution_count": 16
        }
      ]
    },
    {
      "cell_type": "markdown",
      "source": [
        "'d' will be the final asnwer for question number 3"
      ],
      "metadata": {
        "id": "7sZfp0hvtK4X"
      }
    },
    {
      "cell_type": "markdown",
      "source": [
        "## 4. What is the value of spam[-1]?"
      ],
      "metadata": {
        "id": "FkyaZY-DtUeJ"
      }
    },
    {
      "cell_type": "code",
      "source": [
        "spam[-1]"
      ],
      "metadata": {
        "colab": {
          "base_uri": "https://localhost:8080/",
          "height": 35
        },
        "id": "ia2DLgvHtEvZ",
        "outputId": "bc25a330-9a9a-4c33-b2fc-3be5aa02ed8f"
      },
      "execution_count": 17,
      "outputs": [
        {
          "output_type": "execute_result",
          "data": {
            "text/plain": [
              "'d'"
            ],
            "application/vnd.google.colaboratory.intrinsic+json": {
              "type": "string"
            }
          },
          "metadata": {},
          "execution_count": 17
        }
      ]
    },
    {
      "cell_type": "markdown",
      "source": [
        "## 5. What is the value of spam[:2]?"
      ],
      "metadata": {
        "id": "bMUNXzwAtwoP"
      }
    },
    {
      "cell_type": "code",
      "source": [
        "spam[-2]"
      ],
      "metadata": {
        "colab": {
          "base_uri": "https://localhost:8080/",
          "height": 35
        },
        "id": "ObBB5115tiGZ",
        "outputId": "0c6a1c0f-14f3-49c8-cf21-7a2b3c1abbfb"
      },
      "execution_count": 18,
      "outputs": [
        {
          "output_type": "execute_result",
          "data": {
            "text/plain": [
              "'c'"
            ],
            "application/vnd.google.colaboratory.intrinsic+json": {
              "type": "string"
            }
          },
          "metadata": {},
          "execution_count": 18
        }
      ]
    },
    {
      "cell_type": "markdown",
      "source": [
        "# Let's pretend bacon has the list [3.14, 'cat,' 11, 'cat,' True] for the next three questions."
      ],
      "metadata": {
        "id": "uQNJnYR4uCIH"
      }
    },
    {
      "cell_type": "code",
      "source": [
        "bacon=[3.14,'cat',11,'cat',True]"
      ],
      "metadata": {
        "id": "3Ngq2A6Nt73Y"
      },
      "execution_count": 19,
      "outputs": []
    },
    {
      "cell_type": "markdown",
      "source": [
        "## 6. What is the value of bacon.index('cat')?"
      ],
      "metadata": {
        "id": "8FSwOZjWuZxo"
      }
    },
    {
      "cell_type": "code",
      "source": [
        "bacon.index('cat')"
      ],
      "metadata": {
        "colab": {
          "base_uri": "https://localhost:8080/"
        },
        "id": "bMr_WD7KuS2v",
        "outputId": "3a2e074d-13d2-4bdc-8f45-0a8788837e32"
      },
      "execution_count": 20,
      "outputs": [
        {
          "output_type": "execute_result",
          "data": {
            "text/plain": [
              "1"
            ]
          },
          "metadata": {},
          "execution_count": 20
        }
      ]
    },
    {
      "cell_type": "markdown",
      "source": [
        "7. How does bacon.append(99) change the look of the list value in bacon?"
      ],
      "metadata": {
        "id": "nRtXpP4eurO-"
      }
    },
    {
      "cell_type": "code",
      "source": [
        "bacon.append(99)"
      ],
      "metadata": {
        "id": "lj-IIipYuk_0"
      },
      "execution_count": 21,
      "outputs": []
    },
    {
      "cell_type": "code",
      "source": [
        "bacon"
      ],
      "metadata": {
        "colab": {
          "base_uri": "https://localhost:8080/"
        },
        "id": "xZASmpCIvAau",
        "outputId": "0a2f01f2-8655-46fb-cded-e101eb383600"
      },
      "execution_count": 22,
      "outputs": [
        {
          "output_type": "execute_result",
          "data": {
            "text/plain": [
              "[3.14, 'cat', 11, 'cat', True, 99]"
            ]
          },
          "metadata": {},
          "execution_count": 22
        }
      ]
    },
    {
      "cell_type": "markdown",
      "source": [
        "[3.14, 'cat', 11, 'cat', True, 99] will be the final value"
      ],
      "metadata": {
        "id": "AT2AOaC1vGWL"
      }
    },
    {
      "cell_type": "markdown",
      "source": [
        "## 8. How does bacon.remove('cat') change the look of the list in bacon?"
      ],
      "metadata": {
        "id": "BdWbZ20CvOgY"
      }
    },
    {
      "cell_type": "code",
      "source": [
        "bacon.remove('cat')"
      ],
      "metadata": {
        "id": "hID5OPwBvDFe"
      },
      "execution_count": 23,
      "outputs": []
    },
    {
      "cell_type": "code",
      "source": [
        "bacon"
      ],
      "metadata": {
        "colab": {
          "base_uri": "https://localhost:8080/"
        },
        "id": "WIr4LLnavYT0",
        "outputId": "0be76a78-0ebb-4ff6-d5dc-07a6e2ba7972"
      },
      "execution_count": 24,
      "outputs": [
        {
          "output_type": "execute_result",
          "data": {
            "text/plain": [
              "[3.14, 11, 'cat', True, 99]"
            ]
          },
          "metadata": {},
          "execution_count": 24
        }
      ]
    },
    {
      "cell_type": "markdown",
      "source": [
        "[3.14, 11, 'cat', True, 99] will be final value . as remove fuction is used to remove fist occerence of any value by default"
      ],
      "metadata": {
        "id": "uNgEFLfkvg6h"
      }
    },
    {
      "cell_type": "markdown",
      "source": [
        "## 9. What are the list concatenation and list replication operators?"
      ],
      "metadata": {
        "id": "NNQSb7lLvxrp"
      }
    },
    {
      "cell_type": "markdown",
      "source": [
        "list concatination:adding of two list elements in one is called concatination-There are several ways to concat two lists\n",
        "\n",
        "  let two lists as a=['Nitish'] and b=[' Kumar']"
      ],
      "metadata": {
        "id": "SAnFDSPHwMnm"
      }
    },
    {
      "cell_type": "code",
      "source": [
        "a=['Nitish']\n",
        "b=[' Kumar']"
      ],
      "metadata": {
        "id": "HO5MAy6mvZ_s"
      },
      "execution_count": 25,
      "outputs": []
    },
    {
      "cell_type": "code",
      "source": [
        "#using '+' operator\n",
        "a=a+b\n",
        "a"
      ],
      "metadata": {
        "colab": {
          "base_uri": "https://localhost:8080/"
        },
        "id": "0hDYaVrrwvmM",
        "outputId": "38b9d3df-8846-4365-a504-074d41ce49a7"
      },
      "execution_count": 27,
      "outputs": [
        {
          "output_type": "execute_result",
          "data": {
            "text/plain": [
              "['Nitish', ' Kumar']"
            ]
          },
          "metadata": {},
          "execution_count": 27
        }
      ]
    },
    {
      "cell_type": "code",
      "source": [
        "# using list comprehention\n",
        "a=['Nitish']\n",
        "l=[i for j in[a,b] for i in j]\n",
        "l"
      ],
      "metadata": {
        "colab": {
          "base_uri": "https://localhost:8080/"
        },
        "id": "e56ZtpuZw0S3",
        "outputId": "e6427e69-122b-42b5-f824-72b6e034e681"
      },
      "execution_count": 33,
      "outputs": [
        {
          "output_type": "execute_result",
          "data": {
            "text/plain": [
              "['Nitish', ' Kumar']"
            ]
          },
          "metadata": {},
          "execution_count": 33
        }
      ]
    },
    {
      "cell_type": "code",
      "source": [
        "#using extend keyword\n",
        "a=['Nitish']\n",
        "b=['Kumar']\n",
        "a.extend(b)"
      ],
      "metadata": {
        "id": "OoXkBXo5yikO"
      },
      "execution_count": 44,
      "outputs": []
    },
    {
      "cell_type": "code",
      "source": [
        "a"
      ],
      "metadata": {
        "colab": {
          "base_uri": "https://localhost:8080/"
        },
        "id": "5FO_9djzzjEz",
        "outputId": "7f87bdfe-4ba1-4605-b860-c09aac016109"
      },
      "execution_count": 45,
      "outputs": [
        {
          "output_type": "execute_result",
          "data": {
            "text/plain": [
              "['Nitish', 'Kumar']"
            ]
          },
          "metadata": {},
          "execution_count": 45
        }
      ]
    },
    {
      "cell_type": "code",
      "source": [
        "#using * operator\n",
        "a=['Nitish']\n",
        "c=[*a,*b]\n",
        "c"
      ],
      "metadata": {
        "colab": {
          "base_uri": "https://localhost:8080/"
        },
        "id": "Daao4KRszj70",
        "outputId": "6b92b40b-dec4-445b-9a7b-4aaa114e5371"
      },
      "execution_count": 46,
      "outputs": [
        {
          "output_type": "execute_result",
          "data": {
            "text/plain": [
              "['Nitish', 'Kumar']"
            ]
          },
          "metadata": {},
          "execution_count": 46
        }
      ]
    },
    {
      "cell_type": "markdown",
      "source": [
        "**list replication operators:-**list replication means making a copy of list,there are different ways replicate a list by using different operator that is callled list replication operator."
      ],
      "metadata": {
        "id": "k0WAWWqF1H2G"
      }
    },
    {
      "cell_type": "code",
      "source": [
        "#using '=' operator\n",
        "a=[1,2,3,4,5,6]\n",
        "b=a\n",
        "b"
      ],
      "metadata": {
        "colab": {
          "base_uri": "https://localhost:8080/"
        },
        "id": "07z7BYwRzx62",
        "outputId": "1f25b474-148b-4402-e86a-dcf06899f855"
      },
      "execution_count": 47,
      "outputs": [
        {
          "output_type": "execute_result",
          "data": {
            "text/plain": [
              "[1, 2, 3, 4, 5, 6]"
            ]
          },
          "metadata": {},
          "execution_count": 47
        }
      ]
    },
    {
      "cell_type": "code",
      "source": [
        "# using 'extend' keyword\n",
        "c=[]\n",
        "c.extend(a)#copy of list a"
      ],
      "metadata": {
        "id": "Kir3bFZ82YHP"
      },
      "execution_count": 48,
      "outputs": []
    },
    {
      "cell_type": "code",
      "source": [
        "c"
      ],
      "metadata": {
        "colab": {
          "base_uri": "https://localhost:8080/"
        },
        "id": "hJnYJawK2sPw",
        "outputId": "eeabcd60-817e-4cb0-a906-c8ba3b219c0a"
      },
      "execution_count": 49,
      "outputs": [
        {
          "output_type": "execute_result",
          "data": {
            "text/plain": [
              "[1, 2, 3, 4, 5, 6]"
            ]
          },
          "metadata": {},
          "execution_count": 49
        }
      ]
    },
    {
      "cell_type": "code",
      "source": [
        "#shallow copy method\n",
        "import copy\n",
        "d=copy.copy(a)\n",
        "d"
      ],
      "metadata": {
        "colab": {
          "base_uri": "https://localhost:8080/"
        },
        "id": "3GJIWpma2tSv",
        "outputId": "dce0660c-9130-486a-dcb7-a5d302e81474"
      },
      "execution_count": 50,
      "outputs": [
        {
          "output_type": "execute_result",
          "data": {
            "text/plain": [
              "[1, 2, 3, 4, 5, 6]"
            ]
          },
          "metadata": {},
          "execution_count": 50
        }
      ]
    },
    {
      "cell_type": "code",
      "source": [
        "#using list comprehention\n",
        "e=[i for i in a]\n",
        "e"
      ],
      "metadata": {
        "colab": {
          "base_uri": "https://localhost:8080/"
        },
        "id": "Q6RT6rUI3H-k",
        "outputId": "ab13b502-9496-4702-b5a9-bb6edf5a62eb"
      },
      "execution_count": 52,
      "outputs": [
        {
          "output_type": "execute_result",
          "data": {
            "text/plain": [
              "[1, 2, 3, 4, 5, 6]"
            ]
          },
          "metadata": {},
          "execution_count": 52
        }
      ]
    },
    {
      "cell_type": "code",
      "source": [
        "#using copy method\n",
        "f=a.copy()\n",
        "f"
      ],
      "metadata": {
        "colab": {
          "base_uri": "https://localhost:8080/"
        },
        "id": "Xtl7PaGg3V64",
        "outputId": "204e770a-a7b3-4317-be8e-7c754a2a1f08"
      },
      "execution_count": 54,
      "outputs": [
        {
          "output_type": "execute_result",
          "data": {
            "text/plain": [
              "[1, 2, 3, 4, 5, 6]"
            ]
          },
          "metadata": {},
          "execution_count": 54
        }
      ]
    },
    {
      "cell_type": "code",
      "source": [
        "#using Deep Copy method\n",
        "g=copy.deepcopy(a)\n",
        "g"
      ],
      "metadata": {
        "colab": {
          "base_uri": "https://localhost:8080/"
        },
        "id": "ziOP6_X33j_I",
        "outputId": "1f7e6dce-a601-47d8-c4ae-c7919d23a2cd"
      },
      "execution_count": 55,
      "outputs": [
        {
          "output_type": "execute_result",
          "data": {
            "text/plain": [
              "[1, 2, 3, 4, 5, 6]"
            ]
          },
          "metadata": {},
          "execution_count": 55
        }
      ]
    },
    {
      "cell_type": "code",
      "source": [
        "#using map function\n",
        "h=map(int,a)\n",
        "h=list(h)\n",
        "h"
      ],
      "metadata": {
        "colab": {
          "base_uri": "https://localhost:8080/"
        },
        "id": "nhrRDTd_32sC",
        "outputId": "7e04e907-3b99-41e4-e5c3-3d8229a91769"
      },
      "execution_count": 60,
      "outputs": [
        {
          "output_type": "execute_result",
          "data": {
            "text/plain": [
              "[1, 2, 3, 4, 5, 6]"
            ]
          },
          "metadata": {},
          "execution_count": 60
        }
      ]
    },
    {
      "cell_type": "markdown",
      "source": [
        "# 10. What is difference between the list methods append() and insert()?"
      ],
      "metadata": {
        "id": "cxFnPt7q4hi1"
      }
    },
    {
      "cell_type": "code",
      "source": [
        "a=[1,3,4,5,6]\n",
        "b=[7,8,9,2]"
      ],
      "metadata": {
        "id": "Cwd3GPtA4He6"
      },
      "execution_count": 61,
      "outputs": []
    },
    {
      "cell_type": "markdown",
      "source": [
        "append() function is used to  insert a single value in a list in the end of that list insted of returning the new list it modify the previous list.\n"
      ],
      "metadata": {
        "id": "qSAVKoLe5G_Q"
      }
    },
    {
      "cell_type": "code",
      "source": [
        "a.append('99')"
      ],
      "metadata": {
        "id": "s1HqeLax5GKq"
      },
      "execution_count": 62,
      "outputs": []
    },
    {
      "cell_type": "code",
      "source": [
        "a"
      ],
      "metadata": {
        "colab": {
          "base_uri": "https://localhost:8080/"
        },
        "id": "ntKCx58m5sby",
        "outputId": "27ae710c-9fa0-472a-9f66-ff5bb82d9603"
      },
      "execution_count": 63,
      "outputs": [
        {
          "output_type": "execute_result",
          "data": {
            "text/plain": [
              "[1, 3, 4, 5, 6, '99']"
            ]
          },
          "metadata": {},
          "execution_count": 63
        }
      ]
    },
    {
      "cell_type": "code",
      "source": [
        "a.append(b)\n",
        "a"
      ],
      "metadata": {
        "colab": {
          "base_uri": "https://localhost:8080/"
        },
        "id": "IjDhXPrF51Ef",
        "outputId": "16e585e6-574f-440c-fc65-a66d574facd6"
      },
      "execution_count": 64,
      "outputs": [
        {
          "output_type": "execute_result",
          "data": {
            "text/plain": [
              "[1, 3, 4, 5, 6, '99', [7, 8, 9, 2]]"
            ]
          },
          "metadata": {},
          "execution_count": 64
        }
      ]
    },
    {
      "cell_type": "markdown",
      "source": [
        "insert() function is been used for insert an element in list at any given index as"
      ],
      "metadata": {
        "id": "Rp_n40BR5-93"
      }
    },
    {
      "cell_type": "code",
      "source": [
        "a.insert(1,'Nitish')\n",
        "a"
      ],
      "metadata": {
        "colab": {
          "base_uri": "https://localhost:8080/"
        },
        "id": "JXn_4TWG5tKM",
        "outputId": "3f222b87-1d3d-47a9-9c22-e454c4935fbd"
      },
      "execution_count": 65,
      "outputs": [
        {
          "output_type": "execute_result",
          "data": {
            "text/plain": [
              "[1, 'Nitish', 3, 4, 5, 6, '99', [7, 8, 9, 2]]"
            ]
          },
          "metadata": {},
          "execution_count": 65
        }
      ]
    },
    {
      "cell_type": "markdown",
      "source": [
        "## 11. What are the two methods for removing items from a list?"
      ],
      "metadata": {
        "id": "xCNTPBEX6XDe"
      }
    },
    {
      "cell_type": "code",
      "source": [
        "#one method to remove item from list is pop()\n",
        "list1=[1,2,3,45,5,6,7]\n",
        "list1.pop()"
      ],
      "metadata": {
        "colab": {
          "base_uri": "https://localhost:8080/"
        },
        "id": "ssauc_yF6Ruk",
        "outputId": "2ab365ba-e52d-49f8-8f46-5fbd739e1b2f"
      },
      "execution_count": 1,
      "outputs": [
        {
          "output_type": "execute_result",
          "data": {
            "text/plain": [
              "7"
            ]
          },
          "metadata": {},
          "execution_count": 1
        }
      ]
    },
    {
      "cell_type": "code",
      "source": [
        "list1#last item has been removed"
      ],
      "metadata": {
        "colab": {
          "base_uri": "https://localhost:8080/"
        },
        "id": "04TYuY-5MPcP",
        "outputId": "c9e37540-5974-49a0-d6db-83a4c7b4ff84"
      },
      "execution_count": 3,
      "outputs": [
        {
          "output_type": "execute_result",
          "data": {
            "text/plain": [
              "[1, 2, 3, 45, 5, 6]"
            ]
          },
          "metadata": {},
          "execution_count": 3
        }
      ]
    },
    {
      "cell_type": "code",
      "source": [
        "list1.pop(2)  #it can also remove elements from any geven index"
      ],
      "metadata": {
        "colab": {
          "base_uri": "https://localhost:8080/"
        },
        "id": "mCJVjbOhMYFX",
        "outputId": "d2fdcc2e-ae9f-4233-df79-9adbf304ebbc"
      },
      "execution_count": 6,
      "outputs": [
        {
          "output_type": "execute_result",
          "data": {
            "text/plain": [
              "45"
            ]
          },
          "metadata": {},
          "execution_count": 6
        }
      ]
    },
    {
      "cell_type": "code",
      "source": [
        "list1"
      ],
      "metadata": {
        "colab": {
          "base_uri": "https://localhost:8080/"
        },
        "id": "8zFOBqapMi_i",
        "outputId": "807be5ad-7227-4251-9541-ddd766eeda7d"
      },
      "execution_count": 5,
      "outputs": [
        {
          "output_type": "execute_result",
          "data": {
            "text/plain": [
              "[1, 2, 45, 5, 6]"
            ]
          },
          "metadata": {},
          "execution_count": 5
        }
      ]
    },
    {
      "cell_type": "markdown",
      "source": [
        "remove() function is also used to remove the element fist of occuerence of specified value ."
      ],
      "metadata": {
        "id": "m-_WwEqjM__C"
      }
    },
    {
      "cell_type": "code",
      "source": [
        "l=[1,2,3,4,2,6,7]"
      ],
      "metadata": {
        "id": "ZgPCSQclMko8"
      },
      "execution_count": 8,
      "outputs": []
    },
    {
      "cell_type": "code",
      "source": [
        "l.remove(2)"
      ],
      "metadata": {
        "id": "YbgkMCcWNfhg"
      },
      "execution_count": 9,
      "outputs": []
    },
    {
      "cell_type": "code",
      "source": [
        "l"
      ],
      "metadata": {
        "colab": {
          "base_uri": "https://localhost:8080/"
        },
        "id": "NfXpaPYTNo3N",
        "outputId": "5a5e2aa3-83e4-4817-80d8-8ec6f1f9321b"
      },
      "execution_count": 10,
      "outputs": [
        {
          "output_type": "execute_result",
          "data": {
            "text/plain": [
              "[1, 3, 4, 2, 6, 7]"
            ]
          },
          "metadata": {},
          "execution_count": 10
        }
      ]
    },
    {
      "cell_type": "markdown",
      "source": [
        "# 12. Describe how list values and string values are identical"
      ],
      "metadata": {
        "id": "EjzScR1KN1xj"
      }
    },
    {
      "cell_type": "markdown",
      "source": [
        "list and string both are sequences.In both of them slising(:) can be applied.and mamy same operation can be done on both of them as concatination etc."
      ],
      "metadata": {
        "id": "53Cr6svZRwXH"
      }
    },
    {
      "cell_type": "markdown",
      "source": [
        "## 13. What's the difference between tuples and lists?"
      ],
      "metadata": {
        "id": "ata1IBulRvSp"
      }
    },
    {
      "cell_type": "markdown",
      "source": [
        "tuple is a immutable collection where as list is s mutable collection.tuples are faster than list because of its static nature and list has dynamic nature .list can be created with [] but tuple are created with()"
      ],
      "metadata": {
        "id": "UE6Ld0dCTCcI"
      }
    },
    {
      "cell_type": "markdown",
      "source": [
        "## 14. How do you type a tuple value that only contains the integer 42?"
      ],
      "metadata": {
        "id": "_FbzcRfgdR34"
      }
    },
    {
      "cell_type": "code",
      "source": [
        "tuple1=(45)"
      ],
      "metadata": {
        "id": "RV_dfwyxS_JW"
      },
      "execution_count": 13,
      "outputs": []
    },
    {
      "cell_type": "code",
      "source": [
        "tuple1"
      ],
      "metadata": {
        "colab": {
          "base_uri": "https://localhost:8080/"
        },
        "id": "Uu6AfzIndngE",
        "outputId": "219dab69-50c9-4b21-e453-8e79bb34b7f9"
      },
      "execution_count": 14,
      "outputs": [
        {
          "output_type": "execute_result",
          "data": {
            "text/plain": [
              "45"
            ]
          },
          "metadata": {},
          "execution_count": 14
        }
      ]
    },
    {
      "cell_type": "markdown",
      "source": [
        "## 15. How do you get a list value's tuple form? How do you get a tuple value's list form?"
      ],
      "metadata": {
        "id": "8c5RqEz-dwFy"
      }
    },
    {
      "cell_type": "markdown",
      "source": [
        "for list to tuple"
      ],
      "metadata": {
        "id": "rUFhY7XceHMN"
      }
    },
    {
      "cell_type": "code",
      "source": [
        "#let us take list\n",
        "list1=[1,23,4,5,6,7]\n",
        "#list1 in form of tuple\n",
        "tuple1=tuple(list1)\n",
        "tuple1"
      ],
      "metadata": {
        "colab": {
          "base_uri": "https://localhost:8080/"
        },
        "id": "mnvptUf6dopg",
        "outputId": "d489d654-ec90-4075-c60a-9546e142124b"
      },
      "execution_count": 15,
      "outputs": [
        {
          "output_type": "execute_result",
          "data": {
            "text/plain": [
              "(1, 23, 4, 5, 6, 7)"
            ]
          },
          "metadata": {},
          "execution_count": 15
        }
      ]
    },
    {
      "cell_type": "markdown",
      "source": [
        "for tuple to list"
      ],
      "metadata": {
        "id": "ZggEzCfIeKMR"
      }
    },
    {
      "cell_type": "code",
      "source": [
        "tuple2=(1,2,3,4,54,8,6,7)\n",
        "#tuple2 in form of list\n",
        "list2=list(tuple2)\n",
        "list2"
      ],
      "metadata": {
        "colab": {
          "base_uri": "https://localhost:8080/"
        },
        "id": "8GkCFJEReFMt",
        "outputId": "48ba0585-b019-4045-8e8f-a1a622fac5ce"
      },
      "execution_count": 16,
      "outputs": [
        {
          "output_type": "execute_result",
          "data": {
            "text/plain": [
              "[1, 2, 3, 4, 54, 8, 6, 7]"
            ]
          },
          "metadata": {},
          "execution_count": 16
        }
      ]
    },
    {
      "cell_type": "markdown",
      "source": [
        "## 16. Variables that \"contain\" list values are not necessarily lists themselves. Instead, what do they contain?"
      ],
      "metadata": {
        "id": "aECVFt_leia7"
      }
    },
    {
      "cell_type": "markdown",
      "source": [
        "They contains the references to the list values insted of list values themself.however for string and int the variable contains string ,int repectivily ."
      ],
      "metadata": {
        "id": "0ll4XVn6fRJS"
      }
    },
    {
      "cell_type": "markdown",
      "source": [
        "## 17. How do you distinguish between copy.copy() and copy.deepcopy()?"
      ],
      "metadata": {
        "id": "puYMuPICf2GB"
      }
    },
    {
      "cell_type": "markdown",
      "source": [
        "copy.copy is also known as shallow copy and it copy the reference of the original objects but copy.deepcopy is used to copy the values of object in recursive manner."
      ],
      "metadata": {
        "id": "b_RIvCQ3gh5W"
      }
    },
    {
      "cell_type": "markdown",
      "source": [],
      "metadata": {
        "id": "T3d-w-QGg-WP"
      }
    }
  ]
}