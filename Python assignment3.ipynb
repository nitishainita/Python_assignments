{
 "cells": [
  {
   "cell_type": "markdown",
   "id": "79ebebe9",
   "metadata": {},
   "source": [
    "# 1. Why are functions advantageous to have in your programs?"
   ]
  },
  {
   "cell_type": "markdown",
   "id": "88d0cafe",
   "metadata": {},
   "source": [
    "#### There are some Advantages to have in programs as-\n",
    "#### 1-code reusability\n",
    "#### 2-infomation hiding\n",
    "#### 3-reduction of code duplication\n",
    "#### 4- decomposition of complex problem into simple one\n",
    "#### 5- it inreases the clarity of code."
   ]
  },
  {
   "cell_type": "markdown",
   "id": "273f8739",
   "metadata": {},
   "source": [
    "## 2. When does the code in a function run: when it&#39;s specified or when it&#39;s called?"
   ]
  },
  {
   "cell_type": "markdown",
   "id": "99e17005",
   "metadata": {},
   "source": [
    "#### 1-the code in the functions are specified at the time of function definition and the code is run when it being called by function calling procedur or we can call  this as code runs when it is referenced."
   ]
  },
  {
   "cell_type": "markdown",
   "id": "a786e743",
   "metadata": {},
   "source": [
    "## 3. What statement creates a function?"
   ]
  },
  {
   "cell_type": "markdown",
   "id": "8a876b1e",
   "metadata": {},
   "source": [
    "####  The function can be create by using 'def' keyword followed by function name ,round brackets and colon"
   ]
  },
  {
   "cell_type": "markdown",
   "id": "233c75bc",
   "metadata": {},
   "source": [
    "#### def function_name():\n",
    "    pass"
   ]
  },
  {
   "cell_type": "markdown",
   "id": "3a43b7aa",
   "metadata": {},
   "source": [
    "# 4. What is the difference between a function and a function call?"
   ]
  },
  {
   "cell_type": "markdown",
   "id": "16f68677",
   "metadata": {},
   "source": [
    "#### In python function means function body or we can say definition part of function where complete code is present is called as function.\n",
    "#### on The other hand function call means we want to use a function the we call the function by function_name with its given arguments(provided at the time of function definition part) is called function call."
   ]
  },
  {
   "cell_type": "markdown",
   "id": "52743ef8",
   "metadata": {},
   "source": [
    "## 5. How many global scopes are there in a Python program? How many local scopes?"
   ]
  },
  {
   "cell_type": "markdown",
   "id": "e1127934",
   "metadata": {},
   "source": [
    "####  There is only one global python scope per program execution.this scope remains in existence until the program terminates and all its names are forgotten"
   ]
  },
  {
   "cell_type": "markdown",
   "id": "e0e350df",
   "metadata": {},
   "source": [
    "#### Any number of local scope can be possible Each call to a function is a new local scope-\n",
    "#### A variable created indside a function is available inside that function.\n",
    "#### A local varaible can be accessed from a function within the function."
   ]
  },
  {
   "cell_type": "markdown",
   "id": "b3cfc0e5",
   "metadata": {},
   "source": [
    "## 6. What happens to variables in a local scope when the function call returns?"
   ]
  },
  {
   "cell_type": "markdown",
   "id": "7ee06248",
   "metadata": {},
   "source": [
    " ####  when  function call returns the local scope variable will be destroy that is why it is not available  for next time use in any other function but A local variable retains its value until the next time the function is called."
   ]
  },
  {
   "cell_type": "markdown",
   "id": "184e4118",
   "metadata": {},
   "source": [
    "## 7. What is the concept of a return value? Is it possible to have a return value in an expression?"
   ]
  },
  {
   "cell_type": "markdown",
   "id": "095c1af7",
   "metadata": {},
   "source": [
    "#### returen value-> The value that a function returns to the caller is kown as the function's return value.\n",
    "#### yes as we can use any python object as a return value since everything in python is an object so we return string list tuple and etc."
   ]
  },
  {
   "cell_type": "markdown",
   "id": "265df62f",
   "metadata": {},
   "source": [
    "## 8. If a function does not have a return statement, what is the return value of a call to that function?"
   ]
  },
  {
   "cell_type": "markdown",
   "id": "6a05b93a",
   "metadata": {},
   "source": [
    "#### if a function does not have a return statement it would simply return 'None' "
   ]
  },
  {
   "cell_type": "markdown",
   "id": "f592a8e9",
   "metadata": {},
   "source": [
    "## 9. How do you make a function variable refer to the global variable?"
   ]
  },
  {
   "cell_type": "markdown",
   "id": "ff7bc140",
   "metadata": {},
   "source": [
    "#### By  using 'global' keyword we can make function variable to the global variable"
   ]
  },
  {
   "cell_type": "markdown",
   "id": "763938fb",
   "metadata": {},
   "source": [
    "## 10. What is the data type of None?"
   ]
  },
  {
   "cell_type": "markdown",
   "id": "674d76d7",
   "metadata": {},
   "source": [
    "####  None is a data type of its own as 'None Type'"
   ]
  },
  {
   "cell_type": "code",
   "execution_count": 1,
   "id": "54de03a5",
   "metadata": {},
   "outputs": [
    {
     "data": {
      "text/plain": [
       "NoneType"
      ]
     },
     "execution_count": 1,
     "metadata": {},
     "output_type": "execute_result"
    }
   ],
   "source": [
    "type(None)"
   ]
  },
  {
   "cell_type": "markdown",
   "id": "06177358",
   "metadata": {},
   "source": [
    "## 11. What does the sentence import areallyourpetsnamederic do?"
   ]
  },
  {
   "cell_type": "code",
   "execution_count": 2,
   "id": "2c05b91e",
   "metadata": {},
   "outputs": [
    {
     "ename": "ModuleNotFoundError",
     "evalue": "No module named 'areallyourpetsnamederic'",
     "output_type": "error",
     "traceback": [
      "\u001b[1;31m---------------------------------------------------------------------------\u001b[0m",
      "\u001b[1;31mModuleNotFoundError\u001b[0m                       Traceback (most recent call last)",
      "Input \u001b[1;32mIn [2]\u001b[0m, in \u001b[0;36m<cell line: 1>\u001b[1;34m()\u001b[0m\n\u001b[1;32m----> 1\u001b[0m \u001b[38;5;28;01mimport\u001b[39;00m \u001b[38;5;21;01mareallyourpetsnamederic\u001b[39;00m\n",
      "\u001b[1;31mModuleNotFoundError\u001b[0m: No module named 'areallyourpetsnamederic'"
     ]
    }
   ],
   "source": [
    "import areallyourpetsnamederic"
   ]
  },
  {
   "cell_type": "markdown",
   "id": "97c6e6f6",
   "metadata": {},
   "source": [
    "#### it will import the libaray if it exists in our system installations"
   ]
  },
  {
   "cell_type": "markdown",
   "id": "8275cf20",
   "metadata": {},
   "source": [
    "## 12. If you had a bacon() feature in a spam module, what would you call it after importing spam?"
   ]
  },
  {
   "cell_type": "markdown",
   "id": "4b51f77f",
   "metadata": {},
   "source": [
    "#### this function can be callled with the spam.bacon()."
   ]
  },
  {
   "cell_type": "markdown",
   "id": "5644b297",
   "metadata": {},
   "source": [
    "## 13. What can you do to save a programme from crashing if it encounters an error?"
   ]
  },
  {
   "cell_type": "markdown",
   "id": "f35edc77",
   "metadata": {},
   "source": [
    "#### By using exception Handling concept we save a program from crashing if it encounters an error.by try,raise and etc blocks"
   ]
  },
  {
   "cell_type": "markdown",
   "id": "45828ece",
   "metadata": {},
   "source": [
    "## 14. What is the purpose of the try clause? What is the purpose of the except clause?"
   ]
  },
  {
   "cell_type": "markdown",
   "id": "352413c9",
   "metadata": {},
   "source": [
    "#### In the try clause ,all statments are going to execute until any exception is encountered.\n",
    "#### except is used to catch and handle the ecxeptions that encountered in try block."
   ]
  }
 ],
 "metadata": {
  "kernelspec": {
   "display_name": "Python 3 (ipykernel)",
   "language": "python",
   "name": "python3"
  },
  "language_info": {
   "codemirror_mode": {
    "name": "ipython",
    "version": 3
   },
   "file_extension": ".py",
   "mimetype": "text/x-python",
   "name": "python",
   "nbconvert_exporter": "python",
   "pygments_lexer": "ipython3",
   "version": "3.10.1"
  }
 },
 "nbformat": 4,
 "nbformat_minor": 5
}
