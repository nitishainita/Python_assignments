{
  "nbformat": 4,
  "nbformat_minor": 0,
  "metadata": {
    "colab": {
      "provenance": [],
      "authorship_tag": "ABX9TyOHElbfO6+n3NG//fei6u1s",
      "include_colab_link": true
    },
    "kernelspec": {
      "name": "python3",
      "display_name": "Python 3"
    },
    "language_info": {
      "name": "python"
    }
  },
  "cells": [
    {
      "cell_type": "markdown",
      "metadata": {
        "id": "view-in-github",
        "colab_type": "text"
      },
      "source": [
        "<a href=\"https://colab.research.google.com/github/nitishainita/Python_assignments/blob/main/Python_assignment_11.ipynb\" target=\"_parent\"><img src=\"https://colab.research.google.com/assets/colab-badge.svg\" alt=\"Open In Colab\"/></a>"
      ]
    },
    {
      "cell_type": "markdown",
      "source": [
        "## 1. Create an assert statement that throws an AssertionError if the variable spam is a negative integer."
      ],
      "metadata": {
        "id": "OLTzJF6vzKXS"
      }
    },
    {
      "cell_type": "code",
      "source": [
        "spam=-6"
      ],
      "metadata": {
        "id": "xkeK91vkzx0R"
      },
      "execution_count": 3,
      "outputs": []
    },
    {
      "cell_type": "code",
      "execution_count": 6,
      "metadata": {
        "colab": {
          "base_uri": "https://localhost:8080/",
          "height": 165
        },
        "id": "FFUiFNZLzCkM",
        "outputId": "87dead98-602e-4357-f1ac-1cdb9fc7d744"
      },
      "outputs": [
        {
          "output_type": "error",
          "ename": "AssertionError",
          "evalue": "ignored",
          "traceback": [
            "\u001b[0;31m---------------------------------------------------------------------------\u001b[0m",
            "\u001b[0;31mAssertionError\u001b[0m                            Traceback (most recent call last)",
            "\u001b[0;32m<ipython-input-6-f3da1e4b429d>\u001b[0m in \u001b[0;36m<cell line: 1>\u001b[0;34m()\u001b[0m\n\u001b[0;32m----> 1\u001b[0;31m \u001b[0;32massert\u001b[0m \u001b[0mspam\u001b[0m \u001b[0;34m>=\u001b[0m \u001b[0;36m0\u001b[0m\u001b[0;34m\u001b[0m\u001b[0;34m\u001b[0m\u001b[0m\n\u001b[0m",
            "\u001b[0;31mAssertionError\u001b[0m: "
          ]
        }
      ],
      "source": [
        "assert spam >= 0"
      ]
    },
    {
      "cell_type": "code",
      "source": [
        "spam=6\n",
        "assert spam >= 0"
      ],
      "metadata": {
        "id": "zF4ISB_o0GG8"
      },
      "execution_count": 7,
      "outputs": []
    },
    {
      "cell_type": "markdown",
      "source": [
        "### 2. Write an assert statement that triggers an AssertionError if the variables eggs and bacon contain strings that are the same as each other, even if their cases are different (that is hello and hello are considered the same, and goodbye and GOODbye are also considered the same)."
      ],
      "metadata": {
        "id": "hCkj91PFzJqQ"
      }
    },
    {
      "cell_type": "code",
      "source": [
        "eggs='goodbye'\n",
        "bacon='GOODbye'"
      ],
      "metadata": {
        "id": "3lwhiAQv1Bay"
      },
      "execution_count": 8,
      "outputs": []
    },
    {
      "cell_type": "code",
      "source": [
        "assert eggs.lower() != bacon.lower(), \"eggs and bacon both cannot have the same string value\""
      ],
      "metadata": {
        "colab": {
          "base_uri": "https://localhost:8080/",
          "height": 165
        },
        "id": "fHROjxgX04c_",
        "outputId": "ac9962ff-a6af-46b0-f600-3ae011b165ce"
      },
      "execution_count": 9,
      "outputs": [
        {
          "output_type": "error",
          "ename": "AssertionError",
          "evalue": "ignored",
          "traceback": [
            "\u001b[0;31m---------------------------------------------------------------------------\u001b[0m",
            "\u001b[0;31mAssertionError\u001b[0m                            Traceback (most recent call last)",
            "\u001b[0;32m<ipython-input-9-e31b7e5aa02e>\u001b[0m in \u001b[0;36m<cell line: 1>\u001b[0;34m()\u001b[0m\n\u001b[0;32m----> 1\u001b[0;31m \u001b[0;32massert\u001b[0m \u001b[0meggs\u001b[0m\u001b[0;34m.\u001b[0m\u001b[0mlower\u001b[0m\u001b[0;34m(\u001b[0m\u001b[0;34m)\u001b[0m \u001b[0;34m!=\u001b[0m \u001b[0mbacon\u001b[0m\u001b[0;34m.\u001b[0m\u001b[0mlower\u001b[0m\u001b[0;34m(\u001b[0m\u001b[0;34m)\u001b[0m\u001b[0;34m,\u001b[0m \u001b[0;34m\"eggs and bacon both cannot have the same string value\"\u001b[0m\u001b[0;34m\u001b[0m\u001b[0;34m\u001b[0m\u001b[0m\n\u001b[0m",
            "\u001b[0;31mAssertionError\u001b[0m: eggs and bacon both cannot have the same string value"
          ]
        }
      ]
    },
    {
      "cell_type": "code",
      "source": [
        "eggs='goodbye'\n",
        "bacon='GOODbyeA'\n",
        "assert eggs.lower() != bacon.lower(), \"eggs and bacon both cannot have the same string value\""
      ],
      "metadata": {
        "id": "qzMyo08E1LFx"
      },
      "execution_count": 10,
      "outputs": []
    },
    {
      "cell_type": "markdown",
      "source": [
        "## 3. Create an assert statement that throws an AssertionError every time."
      ],
      "metadata": {
        "id": "8APFcH-T1iOn"
      }
    },
    {
      "cell_type": "code",
      "source": [
        "assert False"
      ],
      "metadata": {
        "colab": {
          "base_uri": "https://localhost:8080/",
          "height": 165
        },
        "id": "Q9vfwCNr1aU8",
        "outputId": "ff7f1c9e-42b1-4b2e-b211-8a8c83946719"
      },
      "execution_count": 11,
      "outputs": [
        {
          "output_type": "error",
          "ename": "AssertionError",
          "evalue": "ignored",
          "traceback": [
            "\u001b[0;31m---------------------------------------------------------------------------\u001b[0m",
            "\u001b[0;31mAssertionError\u001b[0m                            Traceback (most recent call last)",
            "\u001b[0;32m<ipython-input-11-a871fdc9ebee>\u001b[0m in \u001b[0;36m<cell line: 1>\u001b[0;34m()\u001b[0m\n\u001b[0;32m----> 1\u001b[0;31m \u001b[0;32massert\u001b[0m \u001b[0;32mFalse\u001b[0m\u001b[0;34m\u001b[0m\u001b[0;34m\u001b[0m\u001b[0m\n\u001b[0m",
            "\u001b[0;31mAssertionError\u001b[0m: "
          ]
        }
      ]
    },
    {
      "cell_type": "markdown",
      "source": [
        "## 4. What are the two lines that must be present in your software in order to call logging.debug()?"
      ],
      "metadata": {
        "id": "t8i-cpzz3dT7"
      }
    },
    {
      "cell_type": "code",
      "source": [
        "import logging\n",
        "logging.basicConfig(level=logging.DEBUG)"
      ],
      "metadata": {
        "id": "zf6b8z9k2_Yw"
      },
      "execution_count": 12,
      "outputs": []
    },
    {
      "cell_type": "markdown",
      "source": [
        "### 5. What are the two lines that your program must have in order to have logging.debug() send a logging message to a file named programLog.txt?"
      ],
      "metadata": {
        "id": "8Cjoc5Sg3s3B"
      }
    },
    {
      "cell_type": "code",
      "source": [
        "import logging\n",
        "logging.basicConfig(filename='programLog.txt', level=logging.DEBUG)"
      ],
      "metadata": {
        "id": "IVPLKcWd3sn9"
      },
      "execution_count": 13,
      "outputs": []
    },
    {
      "cell_type": "markdown",
      "source": [
        "## 6. What are the five levels of logging?"
      ],
      "metadata": {
        "id": "WXwHxAr74Ff4"
      }
    },
    {
      "cell_type": "markdown",
      "source": [
        "1-DEBUG\n",
        "\n",
        "2-INFO\n",
        "\n",
        "3-WARNING\n",
        "\n",
        "4-ERROR\n",
        "\n",
        "5-CRITICAL"
      ],
      "metadata": {
        "id": "IA7CSfuU4KTI"
      }
    },
    {
      "cell_type": "markdown",
      "source": [
        "## 7. What line of code would you add to your software to disable all logging messages?"
      ],
      "metadata": {
        "id": "csngDqgI4m2B"
      }
    },
    {
      "cell_type": "code",
      "source": [
        "logging.disable(logging.CRITICAL)"
      ],
      "metadata": {
        "id": "e5cqlSHs44MA"
      },
      "execution_count": 14,
      "outputs": []
    },
    {
      "cell_type": "markdown",
      "source": [
        "## 8.Why is using logging messages better than using print() to display the same message?"
      ],
      "metadata": {
        "id": "iyd_S4Z-5Ayh"
      }
    },
    {
      "cell_type": "markdown",
      "source": [
        "Logging is being prefered over print statement beacuse of the several reasons as-\n",
        "1-Maintenance and readability\n",
        "\n",
        "2-Performance impact\n",
        "\n",
        "3-Integration with libraries and frameworks\n",
        "\n",
        "4-Production readiness: It allows for efficient logging management, such as rotating log files, setting log levels dynamically, and integrating with other logging systems or monitoring tools\n",
        "\n",
        "5-Granular control: Logging allows you to set different levels of severity for messages (e.g., DEBUG, INFO, WARNING, ERROR, CRITICAL). This enables you to filter messages based on their importance or severity.\n",
        "\n",
        "6-Configurability: Logging provides a flexible and configurable way to control the output of messages. With logging, you can easily change the verbosity level or redirect messages to different destinations (e.g., console, file, network) without modifying the code."
      ],
      "metadata": {
        "id": "2U1KN4RF5S7s"
      }
    },
    {
      "cell_type": "markdown",
      "source": [
        "## 9. What are the differences between the Step Over, Step In, and Step Out buttons in the debugger?"
      ],
      "metadata": {
        "id": "GRzz7uXf6Rlv"
      }
    },
    {
      "cell_type": "markdown",
      "source": [
        "**Step Over:** The Step Over button allows you to execute the current line of code and move to the next line in the same function or method. If the current line contains a function call, the Step Over operation will execute the entire function without stepping into it. This is useful when you want to quickly move through a block of code without diving into the details of function calls.\n",
        "\n",
        "**Step In:** The Step In button enables you to enter into the next line of code, including function calls. If the current line contains a function call, pressing Step In will take you inside that function, allowing you to step through each line of the function's code. This is useful when you want to analyze the execution details within a specific function.\n",
        "\n",
        "**Step Out:** The Step Out button is used to execute the remaining lines of the current function and return to the calling function. It allows you to \"step out\" of the current function and resume execution at the point where the function was called. This is helpful when you are inside a function and want to quickly skip the remaining code within that function and focus on the caller's context."
      ],
      "metadata": {
        "id": "hR-obLtB6lE2"
      }
    },
    {
      "cell_type": "markdown",
      "source": [
        "## 10.After you click Continue, when will the debugger stop ?"
      ],
      "metadata": {
        "id": "0pWx26hj7Fiv"
      }
    },
    {
      "cell_type": "markdown",
      "source": [
        "After clicking the \"Continue\" button in a debugger, the debugger will stop when one of the following conditions is met:\n",
        "\n",
        "1-Breakpoint:A breakpoint is a specific line of code where you want the debugger to pause and allow you to inspect the program's state.\n",
        "\n",
        "2-Exception\n",
        "\n",
        "3-Program completion"
      ],
      "metadata": {
        "id": "JqR-DEwG7PgP"
      }
    },
    {
      "cell_type": "markdown",
      "source": [
        "## 11-What is the concept of a breakpoint?"
      ],
      "metadata": {
        "id": "17qBz-gm7j7q"
      }
    },
    {
      "cell_type": "markdown",
      "source": [
        "A breakpoint is a debugging feature that allows us to pause the execution of a program at a specific line of code, enabling us to inspect the program's state, variables, and control flow at that point. It is a tool commonly provided by integrated development environments (IDEs) and debuggers to aid in the process of debugging and troubleshooting software."
      ],
      "metadata": {
        "id": "FulWK19W8HdC"
      }
    }
  ]
}