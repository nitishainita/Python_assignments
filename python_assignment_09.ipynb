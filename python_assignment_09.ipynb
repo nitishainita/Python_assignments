{
  "nbformat": 4,
  "nbformat_minor": 0,
  "metadata": {
    "colab": {
      "provenance": [],
      "authorship_tag": "ABX9TyPSsy3nagc4C72SxKpMvFGa",
      "include_colab_link": true
    },
    "kernelspec": {
      "name": "python3",
      "display_name": "Python 3"
    },
    "language_info": {
      "name": "python"
    }
  },
  "cells": [
    {
      "cell_type": "markdown",
      "metadata": {
        "id": "view-in-github",
        "colab_type": "text"
      },
      "source": [
        "<a href=\"https://colab.research.google.com/github/nitishainita/Python_assignments/blob/main/python_assignment_09.ipynb\" target=\"_parent\"><img src=\"https://colab.research.google.com/assets/colab-badge.svg\" alt=\"Open In Colab\"/></a>"
      ]
    },
    {
      "cell_type": "markdown",
      "source": [
        "## 1. To what does a relative path refer?"
      ],
      "metadata": {
        "id": "1FU51nyGRxLu"
      }
    },
    {
      "cell_type": "markdown",
      "source": [
        "A relative path describes the location of a file or directory relative to the current directory or another known location, without specifying the entire path from the root of the file system."
      ],
      "metadata": {
        "id": "tCmDE2VeR1y4"
      }
    },
    {
      "cell_type": "markdown",
      "source": [
        "## 2. What does an absolute path start with your operating system?"
      ],
      "metadata": {
        "id": "syFaZe27R6iu"
      }
    },
    {
      "cell_type": "markdown",
      "source": [
        "In most modern operating systems, including Windows, Linux, and macOS, an absolute path starts with the root directory.\n",
        "\n",
        "in Windows, an absolute path typically starts with the drive letter followed by a colon (e.g., \"C:\\path\\to\\file\"). \n",
        "\n",
        "in Linux and macOS, an absolute path typically starts with a forward slash (\"/\") (e.g., \"/path/to/file\")."
      ],
      "metadata": {
        "id": "FoizpsP5Sclv"
      }
    },
    {
      "cell_type": "markdown",
      "source": [
        "## 3. What do the functions os.getcwd() and os.chdir() do?"
      ],
      "metadata": {
        "id": "_0UtvFEodQ3t"
      }
    },
    {
      "cell_type": "markdown",
      "source": [
        " **os.getcwd():** This function returns the current working directory as a string. The current working directory is the directory in which the Python script or program is currently executing. It represents the starting point for resolving relative paths. When you call os.getcwd(), it returns the absolute path of the current working directory.\n",
        "\n",
        "**os.chdir(path):** This function changes the current working directory to the path specified as an argument. It allows you to navigate and switch between different directories in your file system. The path parameter can be either an absolute path or a relative path."
      ],
      "metadata": {
        "id": "jWz27YQPddy6"
      }
    },
    {
      "cell_type": "markdown",
      "source": [
        "## 4. What are the . and .. folders?"
      ],
      "metadata": {
        "id": "VF24UFoKdxnr"
      }
    },
    {
      "cell_type": "markdown",
      "source": [
        "**\".\" (dot):** The dot represents the current directory. It is used to refer to the directory you are currently in. For example, if your current working directory is \"/home/user/Documents\", the path \"./file.txt\" refers to the file \"file.txt\" in the current directory (\"/home/user/Documents\").\n",
        "\n",
        "**\"..\" (dot dot):** The dot dot represents the parent directory. It is used to refer to the directory immediately above the current directory in the file system hierarchy. For example, if your current working directory is \"/home/user/Documents\", the path \"../file.txt\" refers to the file \"file.txt\" in the parent directory (\"/home/user\")."
      ],
      "metadata": {
        "id": "bM8frJ6jeHJH"
      }
    },
    {
      "cell_type": "markdown",
      "source": [
        "## 5. In C:\\bacon\\eggs\\spam.txt, which part is the dir name, and which part is the base name?"
      ],
      "metadata": {
        "id": "qFs91xWneX2u"
      }
    },
    {
      "cell_type": "markdown",
      "source": [
        "Directory name: \"C:\\bacon\\eggs\"\n",
        "\n",
        "Base name: \"spam.txt\""
      ],
      "metadata": {
        "id": "Nkm_Tm1Nejdy"
      }
    },
    {
      "cell_type": "markdown",
      "source": [
        "## 6. What are the three “mode” arguments that can be passed to the open() function?"
      ],
      "metadata": {
        "id": "-59EHL-GeppT"
      }
    },
    {
      "cell_type": "markdown",
      "source": [
        "**Read Mode (\"r\"):** This is the default mode and is used for opening a file for reading. It allows you to read the contents of an existing file. If the file does not exist, it will raise a FileNotFoundError. Example: open(\"file.txt\", \"r\")\n",
        "\n",
        "**Write Mode (\"w\"):** This mode is used for opening a file for writing. It creates a new file if it doesn't exist, or truncates the file to zero length if it does exist. It is important to note that the write mode overwrites the existing content of the file. Example: open(\"file.txt\", \"w\")\n",
        "\n",
        "**Append Mode (\"a\"):** This mode is used for opening a file in append mode. It allows you to add new content to the end of the file without overwriting the existing content. If the file does not exist, it will be created. Example: open(\"file.txt\", \"a\")"
      ],
      "metadata": {
        "id": "kOKjbA11fRjx"
      }
    },
    {
      "cell_type": "markdown",
      "source": [
        "## 7-What happens if an existing file is opened in write mode?"
      ],
      "metadata": {
        "id": "MFoV_Vdgfe6n"
      }
    },
    {
      "cell_type": "markdown",
      "source": [
        "Write Mode (\"w\"): This mode is used for opening a file for writing. It creates a new file if it doesn't exist, or truncates the file to zero length if it does exist. It is important to note that ***the write mode overwrites the existing content of the file***. Example: open(\"file.txt\", \"w\")"
      ],
      "metadata": {
        "id": "XOCogZuWfhxX"
      }
    },
    {
      "cell_type": "markdown",
      "source": [
        "## 8. How do you tell the difference between read() and readlines()?"
      ],
      "metadata": {
        "id": "E6XRylbpf3Xf"
      }
    },
    {
      "cell_type": "markdown",
      "source": [
        "**read():** This method is used to read the entire content of a file as a single string. It reads from the current position until the end of the file or a specified number of characters if an argument is provided. The read() method returns the content as a string.\n"
      ],
      "metadata": {
        "id": "vzVlAPUhgPqZ"
      }
    },
    {
      "cell_type": "code",
      "execution_count": null,
      "metadata": {
        "id": "ZZo-OVusRpmi"
      },
      "outputs": [],
      "source": [
        "#python code\n",
        "with open(\"file.txt\", \"r\") as file:\n",
        "    content = file.read()\n",
        "    print(content)"
      ]
    },
    {
      "cell_type": "markdown",
      "source": [
        "readlines(): This method is used to read the content of a file line by line and return the lines as a list of strings. Each line of the file becomes an element in the list. The readlines() method keeps the newline characters ('\\n') at the end of each line, including the last line."
      ],
      "metadata": {
        "id": "AiIRwEiigg00"
      }
    },
    {
      "cell_type": "code",
      "source": [
        "#python code\n",
        "with open(\"file.txt\", \"r\") as file:\n",
        "    lines = file.readlines()\n",
        "    for line in lines:\n",
        "        print(line)"
      ],
      "metadata": {
        "id": "oelxEK3egli-"
      },
      "execution_count": null,
      "outputs": []
    },
    {
      "cell_type": "markdown",
      "source": [
        "## 9. What data structure does a shelf value resemble?"
      ],
      "metadata": {
        "id": "pXbBO1Vqgdbr"
      }
    },
    {
      "cell_type": "markdown",
      "source": [
        "A shelf value resembles a dictionary data structure. A shelf value, created using shelve.open(), acts as a dictionary where keys are strings and values can be any picklable Python object. Pickling is the process of converting a Python object into a byte stream, and the shelve module handles this serialization and deserialization automatically."
      ],
      "metadata": {
        "id": "B-O1hKFnhF-L"
      }
    }
  ]
}