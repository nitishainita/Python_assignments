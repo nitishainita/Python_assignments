{
  "nbformat": 4,
  "nbformat_minor": 0,
  "metadata": {
    "colab": {
      "provenance": [],
      "authorship_tag": "ABX9TyNpeMtUAOHpVEK9ntkF8TR5",
      "include_colab_link": true
    },
    "kernelspec": {
      "name": "python3",
      "display_name": "Python 3"
    },
    "language_info": {
      "name": "python"
    }
  },
  "cells": [
    {
      "cell_type": "markdown",
      "metadata": {
        "id": "view-in-github",
        "colab_type": "text"
      },
      "source": [
        "<a href=\"https://colab.research.google.com/github/nitishainita/Python_assignments/blob/main/python_assignment_07.ipynb\" target=\"_parent\"><img src=\"https://colab.research.google.com/assets/colab-badge.svg\" alt=\"Open In Colab\"/></a>"
      ]
    },
    {
      "cell_type": "markdown",
      "source": [
        "## 1. What is the name of the feature responsible for generating Regex objects?"
      ],
      "metadata": {
        "id": "oUewP9TJV7xA"
      }
    },
    {
      "cell_type": "markdown",
      "source": [
        "In Python, the feature responsible for generating regular expression (regex) objects is the 're' module. This module provides several functions and methods for working with regular expressions, including the ability to create regex objects.\n",
        "\n",
        "To create a regex object, we typically use the compile() function provided by the 're' module. Here's an example:"
      ],
      "metadata": {
        "id": "PlAsA0IVXhYP"
      }
    },
    {
      "cell_type": "code",
      "execution_count": null,
      "metadata": {
        "id": "wmx-zHfSVspy"
      },
      "outputs": [],
      "source": [
        "import re\n",
        "\n",
        "pattern = re.compile(r'\\d{3}-\\d{3}-\\d{4}')"
      ]
    },
    {
      "cell_type": "markdown",
      "source": [
        "In this example, re.compile() creates a regex object that represents the pattern \\d{3}-\\d{3}-\\d{4}. This pattern matches a phone number in the format of three digits, followed by a hyphen, followed by three digits, and finally another hyphen and four digits.\n",
        "\n",
        "Once we have a regex object, we can use its various methods, such as search(), match(), findall(), etc., to perform operations on strings and find matches based on the specified pattern."
      ],
      "metadata": {
        "id": "dA8cPhubXxBf"
      }
    },
    {
      "cell_type": "markdown",
      "source": [
        "### 2- Why do raw strings often appear in Regex objects?"
      ],
      "metadata": {
        "id": "Y7y2XwtTV6eU"
      }
    },
    {
      "cell_type": "markdown",
      "source": [
        "Raw strings are often used in regex objects because they treat backslashes (\\) as literal characters rather than escape characters. In regular expressions, backslashes have special meanings and are used to escape metacharacters or introduce special sequences.\n",
        "\n",
        "By using raw strings (denoted by the r prefix), you can write regular expressions more conveniently and avoid excessive use of escape characters. This is particularly useful in regex patterns that contain a lot of backslashes or special sequences.\n",
        "\n",
        "For example, let's say you want to match a literal backslash followed by the letter \"n\" in a string. In a non-raw string, you would need to escape the backslash with another backslash like this: \"\\\\\\\\n\". However, in a raw string, you can simply write r\"\\\\n\", and it will be treated as a literal backslash followed by the letter \"n\".\n",
        "\n",
        "Here's an example of using a raw string in a regex pattern:\n",
        "\n",
        "import re\n",
        "\n",
        "pattern = r'\\d{3}-\\d{3}-\\d{4}'\n",
        "\n",
        "In this example, the r prefix before the string indicates that it is a raw string. The pattern \\d{3}-\\d{3}-\\d{4} matches a phone number in the format of three digits, followed by a hyphen, followed by three digits, and finally another hyphen and four digits."
      ],
      "metadata": {
        "id": "UnTth9zgYu3q"
      }
    },
    {
      "cell_type": "markdown",
      "source": [
        "### 3- What is the return value of the search() method?"
      ],
      "metadata": {
        "id": "Qnk9t4B5cXlK"
      }
    },
    {
      "cell_type": "markdown",
      "source": [
        "The search() method in Python's regular expression module (re) searches for a pattern within a string and returns a match object if a match is found. The return value of the search() method depends on whether a match is found or not. Here are the possible return values:\n",
        "\n",
        "Match object: If a match is found, the search() method returns a match object. You can use this match object to obtain information about the match, such as the matched string, the position of the match, and any captured groups within the pattern.\n",
        "\n",
        "None: If no match is found, the search() method returns None, which indicates that the pattern was not found in the string.\n",
        "\n",
        "Here's an example demonstrating the use of the search() method:"
      ],
      "metadata": {
        "id": "gyDubsDQddRp"
      }
    },
    {
      "cell_type": "code",
      "source": [
        "import re\n",
        "\n",
        "pattern = r'apple'\n",
        "text = 'I have an apple and a banana.'\n",
        "\n",
        "match = re.search(pattern, text)\n",
        "if match:\n",
        "    print('Match found:', match.group())\n",
        "else:\n",
        "    print('No match found.')"
      ],
      "metadata": {
        "colab": {
          "base_uri": "https://localhost:8080/"
        },
        "id": "Rs91UXvXYHpk",
        "outputId": "24f0a593-bb33-4a07-f1e6-e6dd3a6352c1"
      },
      "execution_count": null,
      "outputs": [
        {
          "output_type": "stream",
          "name": "stdout",
          "text": [
            "Match found: apple\n"
          ]
        }
      ]
    },
    {
      "cell_type": "markdown",
      "source": [
        "### 4. From a Match item, how do you get the actual strings that match the pattern?"
      ],
      "metadata": {
        "id": "8ET4aJTigFqT"
      }
    },
    {
      "cell_type": "markdown",
      "source": [
        "To get the actual strings that match the pattern from a match object, we can use the group() method. The group() method returns the substring of the input string that matched the pattern.\n",
        "\n",
        "By default, group() without any arguments returns the entire matched string. However, we can also pass an argument to group() to specify a particular capturing group within the pattern if regular expression contains capturing parentheses.\n",
        "\n",
        "Here's an example that demonstrates how to retrieve the matched strings from a match object:"
      ],
      "metadata": {
        "id": "tJ5-zd9hgI2A"
      }
    },
    {
      "cell_type": "code",
      "source": [
        "import re\n",
        "\n",
        "pattern = r'\\d+'\n",
        "text = 'I have 3 apples and 5 bananas.'\n",
        "\n",
        "match = re.search(pattern, text)\n",
        "if match:\n",
        "    print('Match found:', match.group())  # Retrieve the entire matched string\n",
        "else:\n",
        "    print('No match found.')"
      ],
      "metadata": {
        "colab": {
          "base_uri": "https://localhost:8080/"
        },
        "id": "Mg4SZ9J1dg6y",
        "outputId": "ff2cd0bb-6182-489a-d3e6-eaee41fce142"
      },
      "execution_count": null,
      "outputs": [
        {
          "output_type": "stream",
          "name": "stdout",
          "text": [
            "Match found: 3\n"
          ]
        }
      ]
    },
    {
      "cell_type": "markdown",
      "source": [
        "If our pattern contains capturing groups, you can pass an argument to group() to specify which group to retrieve. For example:"
      ],
      "metadata": {
        "id": "EsxXXipBgkZm"
      }
    },
    {
      "cell_type": "code",
      "source": [
        "import re\n",
        "\n",
        "pattern = r'(\\d+)\\s+(\\w+)'\n",
        "text = 'I have 3 apples.'\n",
        "\n",
        "match = re.search(pattern, text)\n",
        "if match:\n",
        "    print('Number:', match.group(1))  # Retrieve the first capturing group (digits)\n",
        "    print('Fruit:', match.group(2))   # Retrieve the second capturing group (word)\n",
        "else:\n",
        "    print('No match found.')"
      ],
      "metadata": {
        "colab": {
          "base_uri": "https://localhost:8080/"
        },
        "id": "DNJfthTPgZ0-",
        "outputId": "3cde45fa-6674-42f9-d8ec-57468736936d"
      },
      "execution_count": null,
      "outputs": [
        {
          "output_type": "stream",
          "name": "stdout",
          "text": [
            "Number: 3\n",
            "Fruit: apples\n"
          ]
        }
      ]
    },
    {
      "cell_type": "markdown",
      "source": [
        "In this example, the pattern (\\d+)\\s+(\\w+) matches one or more digits followed by one or more whitespace characters, followed by one or more word characters. The search() method is used to find a match within the string text. The group(1) retrieves the digits, and group(2) retrieves the word. "
      ],
      "metadata": {
        "id": "ae9NW001guwX"
      }
    },
    {
      "cell_type": "markdown",
      "source": [
        "### 5-In the regex which created from the r&#39;(\\d\\d\\d)-(\\d\\d\\d-\\d\\d\\d\\d)&#39;, what does group zero cover?\n",
        "Group 2? Group 1?"
      ],
      "metadata": {
        "id": "5RILO2sjX7cI"
      }
    },
    {
      "cell_type": "markdown",
      "source": [
        "In the given regular expression r'(\\d\\d\\d)-(\\d\\d\\d-\\d\\d\\d\\d)', the groups are defined by the parentheses. Let's break down the groups:\n",
        "\n",
        "Group 0: The entire match. It covers the entire pattern, including both groups 1 and 2.\n",
        "\n",
        "Group 1: The first group defined by (\\d\\d\\d). It matches three consecutive digits.\n",
        "\n",
        "Group 2: The second group defined by (\\d\\d\\d-\\d\\d\\d\\d). It matches three digits followed by a hyphen and then four digits."
      ],
      "metadata": {
        "id": "OQgWPf0tY31y"
      }
    },
    {
      "cell_type": "markdown",
      "source": [
        "## 6-In standard expression syntax, parentheses and intervals have distinct meanings. How can you tell a regex that you want it to fit real parentheses and periods?"
      ],
      "metadata": {
        "id": "yKhd77qKZGyN"
      }
    },
    {
      "cell_type": "markdown",
      "source": [
        "In regular expressions, certain characters like parentheses and periods have special meanings. If you want to match these characters literally instead of their special meanings, you can use a backslash \\ to escape them. This is called \"escaping\" the character."
      ],
      "metadata": {
        "id": "saqwClWrZOz_"
      }
    },
    {
      "cell_type": "code",
      "source": [
        "import re\n",
        "\n",
        "pattern = r'\\.'\n",
        "string = 'This is a test.'\n",
        "\n",
        "matches = re.findall(pattern, string)\n",
        "print(matches)  # Output: ['.']"
      ],
      "metadata": {
        "id": "4RaMHqpXgo8C",
        "colab": {
          "base_uri": "https://localhost:8080/"
        },
        "outputId": "82062b27-124a-47d3-cbab-34e3e8ca95ea"
      },
      "execution_count": 6,
      "outputs": [
        {
          "output_type": "stream",
          "name": "stdout",
          "text": [
            "['.']\n"
          ]
        }
      ]
    },
    {
      "cell_type": "markdown",
      "source": [
        "## The findall() method returns a string list or a list of string tuples. What causes it to return one of the two options?"
      ],
      "metadata": {
        "id": "6pT5JurlawmZ"
      }
    },
    {
      "cell_type": "markdown",
      "source": [
        "The findall() method in Python's regular expression module (re) returns different data structures based on the structure of the regular expression pattern used.\n",
        "\n",
        "If the pattern contains no capturing groups (no parentheses), findall() will return a list of strings. Each element of the list represents a complete match of the pattern in the input string"
      ],
      "metadata": {
        "id": "VbmMWljNa2E4"
      }
    },
    {
      "cell_type": "code",
      "source": [
        "import re\n",
        "\n",
        "pattern = r'\\d+'\n",
        "string = 'I have 3 apples and 5 oranges'\n",
        "\n",
        "matches = re.findall(pattern, string)\n",
        "print(matches)"
      ],
      "metadata": {
        "colab": {
          "base_uri": "https://localhost:8080/"
        },
        "id": "LZAPUK3lZ_qz",
        "outputId": "90265f86-940b-4b4d-c095-86f254cc6226"
      },
      "execution_count": 7,
      "outputs": [
        {
          "output_type": "stream",
          "name": "stdout",
          "text": [
            "['3', '5']\n"
          ]
        }
      ]
    },
    {
      "cell_type": "markdown",
      "source": [
        "In this case, the pattern \\d+ matches one or more digits. Since there are no capturing groups, findall() returns a list of strings, where each string is a complete match.\n",
        "\n",
        "If the pattern contains one or more capturing groups (parentheses), findall() will return a list of string tuples. Each tuple represents a match of the entire pattern, and each element of the tuple corresponds to a capturing group within the pattern."
      ],
      "metadata": {
        "id": "ZjT6901PbMrl"
      }
    },
    {
      "cell_type": "code",
      "source": [
        "import re\n",
        "\n",
        "pattern = r'(\\d+)-(\\w+)'\n",
        "string = 'ID: 123-ABC, ID: 456-DEF'\n",
        "\n",
        "matches = re.findall(pattern, string)\n",
        "print(matches)  "
      ],
      "metadata": {
        "colab": {
          "base_uri": "https://localhost:8080/"
        },
        "id": "qPcADft8bGqN",
        "outputId": "439e41d5-46b9-4d4f-bf4f-ee7ba380d443"
      },
      "execution_count": 8,
      "outputs": [
        {
          "output_type": "stream",
          "name": "stdout",
          "text": [
            "[('123', 'ABC'), ('456', 'DEF')]\n"
          ]
        }
      ]
    },
    {
      "cell_type": "markdown",
      "source": [
        "In this case, the pattern (\\d+)-(\\w+) matches a sequence of one or more digits followed by a hyphen, followed by a sequence of one or more word characters. Since there are capturing groups defined by parentheses, findall() returns a list of tuples, where each tuple contains the matched groups."
      ],
      "metadata": {
        "id": "tVuteiutb0rt"
      }
    },
    {
      "cell_type": "markdown",
      "source": [
        "## 8. In standard expressions, what does the | character mean?"
      ],
      "metadata": {
        "id": "DiX-yfUrcN0n"
      }
    },
    {
      "cell_type": "markdown",
      "source": [
        "In regular expressions, the | character is known as the pipe or alternation operator. It is used to specify multiple alternatives within a pattern. It matches either the expression preceding it or the expression following it.\n",
        "\n",
        "Here's how the | operator works in regular expressions:\n",
        "\n",
        "expression1 | expression2: Matches either expression1 or expression2.\n",
        "For example, let's say we want to match either the word \"cat\" or \"dog\" in a string. We can use the | operator to create a pattern that matches either of the two words"
      ],
      "metadata": {
        "id": "oLtZp9NFcPqh"
      }
    },
    {
      "cell_type": "code",
      "source": [
        "import re\n",
        "\n",
        "pattern = r'cat|dog'\n",
        "string = 'I have a cat and a dog'\n",
        "\n",
        "matches = re.findall(pattern, string)\n",
        "print(matches)"
      ],
      "metadata": {
        "colab": {
          "base_uri": "https://localhost:8080/"
        },
        "id": "05_uL3tqbb1T",
        "outputId": "2d192fa9-a455-4fef-dab4-26143ecb7032"
      },
      "execution_count": 9,
      "outputs": [
        {
          "output_type": "stream",
          "name": "stdout",
          "text": [
            "['cat', 'dog']\n"
          ]
        }
      ]
    },
    {
      "cell_type": "markdown",
      "source": [
        "In this case, the pattern cat|dog matches either the word \"cat\" or the word \"dog\". The findall() method returns a list of all matches found in the input string."
      ],
      "metadata": {
        "id": "9MRCH0G4cdyF"
      }
    },
    {
      "cell_type": "markdown",
      "source": [
        "## 9. In regular expressions, what does the character stand for?"
      ],
      "metadata": {
        "id": "1Vg4v4_SdBfk"
      }
    },
    {
      "cell_type": "markdown",
      "source": [
        "The character . (period) in regular expressions is known as a metacharacter and has a special meaning. It is used to match any single character except for a newline.\n",
        "\n",
        "Here are some key points regarding the . metacharacter:\n",
        "\n",
        "' . ' matches any character except a newline character (\\n).\n",
        "It matches a single occurrence of any character, including letters, digits, symbols, whitespace, etc.\n",
        "If you want to match a literal period character, you need to escape it with a backslash `\\.`."
      ],
      "metadata": {
        "id": "tJ4jgczMdBbV"
      }
    },
    {
      "cell_type": "markdown",
      "source": [
        "### 10.In regular expressions, what is the difference between the + and * characters?"
      ],
      "metadata": {
        "id": "-IQ98iU6eDDg"
      }
    },
    {
      "cell_type": "markdown",
      "source": [
        "In regular expressions, the + and * characters are quantifiers used to specify the repetition of the preceding element. Here's the difference between the two:\n",
        "\n",
        "+ (Plus Quantifier):\n",
        "The + quantifier matches one or more occurrences of the preceding element. It requires at least one occurrence of the preceding element for a match to be found.\n",
        "For example, consider the pattern a+:\n",
        "\n",
        "a+ matches one or more consecutive occurrences of the letter 'a'.\n",
        "Examples:\n",
        "\n",
        "aaa matches a+\n",
        "\n",
        "a matches a+\n",
        "\n",
        "b does not match a+\n",
        "* (Asterisk Quantifier):\n",
        "The * quantifier matches zero or more occurrences of the preceding element. It allows for zero occurrences of the preceding element to be considered a match.\n",
        "For example, consider the pattern a*:\n",
        "\n",
        "a* matches zero or more consecutive occurrences of the letter 'a'.\n",
        "Examples:\n",
        "\n",
        "aaa matches a*\n",
        "\n",
        "a matches a*\n",
        "\n",
        "b matches a* (zero occurrences)\n",
        "+\n",
        "In summary:\n",
        "\n",
        "+ matches one or more occurrences of the preceding element.\n",
        "* matches zero or more occurrences of the preceding element.\n",
        "It's important to note that these quantifiers are \"greedy\" by default, meaning they match as many occurrences as possible. If you want a \"non-greedy\" match, you can add a ? after the + or *, like +? or *?, which will match as few occurrences as possible."
      ],
      "metadata": {
        "id": "3fIBWfd0eCzZ"
      }
    },
    {
      "cell_type": "markdown",
      "source": [
        "## 11. What is the difference between {4} and {4,5} in regular expression?"
      ],
      "metadata": {
        "id": "eg7QfdtSenup"
      }
    },
    {
      "cell_type": "markdown",
      "source": [
        "In regular expressions, the curly braces {} are used as quantifiers to specify the exact or a range of repetition for the preceding element. Here's the difference between {4} and {4,5}:\n",
        "\n",
        "{4}: Specifies an exact repetition count\n",
        "The {4} quantifier specifies that the preceding element must occur exactly four times.\n",
        "For example, consider the pattern a{4}:\n",
        "\n",
        "a{4} matches exactly four consecutive occurrences of the letter 'a'.\n",
        "\n",
        "Examples:\n",
        "\n",
        "aaaa matches a{4}\n",
        "\n",
        "aaa does not match a{4}\n",
        "\n",
        "aaaaa does not match a{4}\n",
        "\n",
        "{4,5}: Specifies a range of repetition counts\n",
        "The {4,5} quantifier specifies that the preceding element must occur between four and five times, inclusive.\n",
        "\n",
        "For example, consider the pattern a{4,5}:\n",
        "\n",
        "a{4,5} matches between four and five consecutive occurrences of the letter 'a'.\n",
        "Examples:\n",
        "\n",
        "aaaa matches a{4,5}\n",
        "\n",
        "aaaaa matches a{4,5}\n",
        "\n",
        "aaa does not match a{4,5}\n",
        "\n",
        "aaaaaaaa does not match a{4,5}"
      ],
      "metadata": {
        "id": "qYPNpbCwep9O"
      }
    },
    {
      "cell_type": "markdown",
      "source": [
        "## 12. What do you mean by the `\\d`, `\\w`, and `\\s` shorthand character classes signify in regular expressions?"
      ],
      "metadata": {
        "id": "IS_ypfXJfb50"
      }
    },
    {
      "cell_type": "markdown",
      "source": [
        "\\d: Matches any digit,\n",
        "The \\d shorthand character class represents any digit character (0-9). It is equivalent to the character range [0-9].\n",
        "For example, the pattern \\d would match a single digit.\n",
        "\n",
        "Examples:\n",
        "\n",
        "0 matches \\d\n",
        "\n",
        "5 matches \\d\n",
        "\n",
        "a does not match \\d\n",
        "\n",
        "10 does not match \\d (matches only one digit)\n",
        "\n",
        "\\w: Matches any word character,\n",
        "The \\w shorthand character class represents any word character, which includes alphanumeric characters (letters, digits) and underscores (_). It is equivalent to the character range [a-zA-Z0-9_].\n",
        "For example, the pattern \\w would match a single word character.\n",
        "\n",
        "Examples:\n",
        "\n",
        "a matches \\w\n",
        "\n",
        "Z matches \\w\n",
        "\n",
        "9 matches \\w\n",
        "\n",
        "@ does not match \\w (non-word character)\n",
        "\n",
        "\\s: Matches any whitespace character,\n",
        "The \\s shorthand character class represents any whitespace character, including spaces, tabs, and newline characters.\n",
        "For example, the pattern \\s would match a single whitespace character.\n",
        "\n",
        "Examples:\n",
        "\n",
        "' ' matches \\s (space character)\n",
        "\n",
        "\\t matches \\s (tab character)\n",
        "\n",
        "\\n matches \\s (newline character)\n",
        "\n",
        "a does not match \\s (non-whitespace character)"
      ],
      "metadata": {
        "id": "pTbpPX9XgJjq"
      }
    },
    {
      "cell_type": "markdown",
      "source": [
        "## 13. What do means by \\D, \\W, and \\S shorthand character classes signify in regular expressions?"
      ],
      "metadata": {
        "id": "BwEM19VegkCM"
      }
    },
    {
      "cell_type": "markdown",
      "source": [
        "In regular expressions, the shorthand character classes \\D, \\W, and \\S are negated versions of their counterparts (\\d, \\w, and \\s). They represent character classes that match characters that are not part of certain predefined types. Here's what each of these negated shorthand character classes signifies:\n",
        "\n",
        "\\D: Matches any non-digit character\n",
        "The \\D shorthand character class matches any character that is not a digit. It is the negation of the \\d shorthand character class.\n",
        "For example, the pattern \\D would match a single non-digit character.\n",
        "\n",
        "Examples:\n",
        "\n",
        "a matches \\D\n",
        "\n",
        "@ matches \\D\n",
        "\n",
        "5 does not match \\D\n",
        "\n",
        "10 does not match \\D (contains digits)"
      ],
      "metadata": {
        "id": "zCIx_o2UgmBh"
      }
    },
    {
      "cell_type": "markdown",
      "source": [
        "## 14. What is the difference between .*? and .*?"
      ],
      "metadata": {
        "id": "Z-0wpH7Fg5y9"
      }
    },
    {
      "cell_type": "markdown",
      "source": [
        "In regular expressions, the .*? and .* are both quantifiers used for matching patterns. However, they have different behaviors due to the presence or absence of the ? modifier.\n",
        "\n",
        ".* (Greedy quantifier):\n",
        "The .* expression is a greedy quantifier that matches zero or more occurrences of any character, except for a newline (\\n). The greedy behavior means that it will match as many characters as possible while still allowing the overall pattern to match.\n",
        "For example, consider the pattern a.*b:\n",
        "\n",
        "a.*b matches an 'a', followed by any number of characters, and ends with a 'b'. It will match the longest possible string that satisfies this condition.\n",
        "Examples:\n",
        "\n",
        "In the string \"abcb\", a.*b matches \"abcb\" (greedily matches the longest substring between 'a' and 'b').\n",
        ".*? (Non-greedy/Lazy quantifier):\n",
        "The .*? expression is a non-greedy or lazy quantifier that matches zero or more occurrences of any character, except for a newline (\\n). The non-greedy behavior means that it will match as few characters as possible while still allowing the overall pattern to match.\n",
        "For example, consider the pattern a.*?b:\n",
        "\n",
        "a.*?b matches an 'a', followed by any number of characters (minimal match), and ends with a 'b'. It will match the shortest possible string that satisfies this condition."
      ],
      "metadata": {
        "id": "jFEOFjCmg7Z9"
      }
    },
    {
      "cell_type": "markdown",
      "source": [
        "## 15. What is the syntax for matching both numbers and lowercase letters with a character class?"
      ],
      "metadata": {
        "id": "YSRcMt1Chvx9"
      }
    },
    {
      "cell_type": "code",
      "source": [
        "import re\n",
        "\n",
        "pattern = r'[0-9a-z]'\n",
        "string = 'a1b2c3'\n",
        "\n",
        "matches = re.findall(pattern, string)\n",
        "print(matches)"
      ],
      "metadata": {
        "colab": {
          "base_uri": "https://localhost:8080/"
        },
        "id": "wYqNIDSMcXNt",
        "outputId": "72d30ad6-084e-4eab-c0ff-a7768da53ffd"
      },
      "execution_count": 10,
      "outputs": [
        {
          "output_type": "stream",
          "name": "stdout",
          "text": [
            "['a', '1', 'b', '2', 'c', '3']\n"
          ]
        }
      ]
    },
    {
      "cell_type": "markdown",
      "source": [
        "## 16. What is the procedure for making a normal expression in regax case insensitive?"
      ],
      "metadata": {
        "id": "dO5ACQFliFMK"
      }
    },
    {
      "cell_type": "markdown",
      "source": [
        "To make a regular expression case-insensitive in Python, you can use the re.IGNORECASE flag or the re.I flag as an argument to the regex functions. Here's the procedure:\n",
        "\n",
        "Compile the regular expression pattern with the case-insensitive flag:\n",
        "When compiling your regular expression pattern, you can include the re.IGNORECASE flag or the re.I flag as an argument to the re.compile() function. This flag makes the regular expression case-insensitive.\n",
        "\n",
        "pattern = re.compile(r'pattern_here', re.IGNORECASE)\n",
        "\n",
        "Use the compiled pattern for matching:\n",
        "You can then use the compiled pattern object to perform matching using methods like search(), match(), or findall(). The case-insensitive flag will be applied to the pattern during matching.\n",
        "\n",
        "result = pattern.search(your_text_here)"
      ],
      "metadata": {
        "id": "2p8OvZJVimQ6"
      }
    },
    {
      "cell_type": "code",
      "source": [
        "import re\n",
        "\n",
        "pattern = re.compile(r'hello', re.IGNORECASE)\n",
        "text = 'Hello, World!'\n",
        "\n",
        "result = pattern.search(text)\n",
        "if result:\n",
        "    print('Match found.')\n",
        "else:\n",
        "    print('Match not found.')"
      ],
      "metadata": {
        "colab": {
          "base_uri": "https://localhost:8080/"
        },
        "id": "KMIw8xr6iAc3",
        "outputId": "e4b6ece1-bb74-425f-c938-837e91e65f4e"
      },
      "execution_count": 11,
      "outputs": [
        {
          "output_type": "stream",
          "name": "stdout",
          "text": [
            "Match found.\n"
          ]
        }
      ]
    },
    {
      "cell_type": "markdown",
      "source": [
        "## 17. What does the . character normally match? What does it match if re.DOTALL is passed as 2nd argument in re.compile()?"
      ],
      "metadata": {
        "id": "0O2dwpHPjZUW"
      }
    },
    {
      "cell_type": "markdown",
      "source": [
        "In regular expressions, the . (dot) character normally matches any character except for a newline (\\n). However, if the re.DOTALL flag is passed as the second argument to the re.compile() function or used inline with the regular expression pattern, the . character will match any character including a newline."
      ],
      "metadata": {
        "id": "5NDLtBH2kR34"
      }
    },
    {
      "cell_type": "code",
      "source": [
        "import re\n",
        "\n",
        "pattern = re.compile(r'a.b')\n",
        "text = 'a\\nb'\n",
        "\n",
        "result = pattern.search(text)\n",
        "if result:\n",
        "    print('Match found.')\n",
        "else:\n",
        "    print('Match not found.')"
      ],
      "metadata": {
        "colab": {
          "base_uri": "https://localhost:8080/"
        },
        "id": "izA3JYZ1jMU-",
        "outputId": "5764a12e-0143-41b6-8ad0-d6a2bc83affb"
      },
      "execution_count": 12,
      "outputs": [
        {
          "output_type": "stream",
          "name": "stdout",
          "text": [
            "Match not found.\n"
          ]
        }
      ]
    },
    {
      "cell_type": "code",
      "source": [
        "import re\n",
        "\n",
        "pattern = re.compile(r'a.b', re.DOTALL)\n",
        "text = 'a\\nb'\n",
        "\n",
        "result = pattern.search(text)\n",
        "if result:\n",
        "    print('Match found.')\n",
        "else:\n",
        "    print('Match not found.')"
      ],
      "metadata": {
        "colab": {
          "base_uri": "https://localhost:8080/"
        },
        "id": "LlnqKxbAkVFJ",
        "outputId": "5ad2b7a3-0ace-420a-9f89-20fe7191bebe"
      },
      "execution_count": 13,
      "outputs": [
        {
          "output_type": "stream",
          "name": "stdout",
          "text": [
            "Match found.\n"
          ]
        }
      ]
    },
    {
      "cell_type": "markdown",
      "source": [
        "In this example, by using the re.DOTALL flag, the a.b pattern is able to match the 'a\\nb' text because the . now matches the newline character as well."
      ],
      "metadata": {
        "id": "vw24xvZckeaQ"
      }
    },
    {
      "cell_type": "markdown",
      "source": [
        "### 19. What does passing re.VERBOSE as the 2nd argument to re.compile() allow to do?"
      ],
      "metadata": {
        "id": "YZ51geEeklKa"
      }
    },
    {
      "cell_type": "markdown",
      "source": [
        "Passing re.VERBOSE as the second argument to re.compile() in Python allows you to write regular expressions in a more readable and organized manner by ignoring whitespace and adding comments.\n",
        "\n",
        "Here's what re.VERBOSE enables you to do:\n",
        "\n",
        "Ignore whitespace: When re.VERBOSE is used, whitespace within the regular expression pattern is ignored. This allows you to add spaces, tabs, and newlines for formatting and readability purposes without affecting the pattern itself.\n",
        "\n",
        "Add comments: You can add comments to the regular expression pattern by using the # symbol. The comments are ignored by the regular expression engine and serve as explanatory notes for understanding the pattern."
      ],
      "metadata": {
        "id": "mDTnHFVxoxZL"
      }
    },
    {
      "cell_type": "code",
      "source": [
        "import re\n",
        "\n",
        "pattern = re.compile(r\"\"\"\n",
        "    \\d{3}  # Match three digits\n",
        "    -      # Match a hyphen\n",
        "    \\d{3}  # Match three digits\n",
        "    -      # Match a hyphen\n",
        "    \\d{4}  # Match four digits\n",
        "\"\"\", re.VERBOSE)\n",
        "\n",
        "text = 'Phone number: 123-456-7890'\n",
        "\n",
        "result = pattern.search(text)\n",
        "if result:\n",
        "    print('Match found.')\n",
        "else:\n",
        "    print('Match not found.')"
      ],
      "metadata": {
        "colab": {
          "base_uri": "https://localhost:8080/"
        },
        "id": "aLouGJxnkaJd",
        "outputId": "bbcbdbf8-c7dc-4eaf-c419-15a946c2a512"
      },
      "execution_count": 14,
      "outputs": [
        {
          "output_type": "stream",
          "name": "stdout",
          "text": [
            "Match found.\n"
          ]
        }
      ]
    },
    {
      "cell_type": "markdown",
      "source": [
        "In this example, the regular expression pattern for matching a phone number is written in a multi-line string with re.VERBOSE as the second argument to re.compile(). The pattern is broken down into multiple lines and includes comments for better readability."
      ],
      "metadata": {
        "id": "qwktw8iwo8Bi"
      }
    },
    {
      "cell_type": "markdown",
      "source": [
        "## 20. How would you write a regex that match a number with comma for every three digits? It must match the given following:\n",
        "\n",
        "'42'\n",
        "\n",
        "'1,234'\n",
        "\n",
        "'6,368,745'\n",
        "\n",
        "but not the following:\n",
        "\n",
        "'12,34,567' (which has only two digits between the commas)\n",
        "\n",
        "'1234' (which lacks commas)"
      ],
      "metadata": {
        "id": "Mr1g1YAzpFyB"
      }
    },
    {
      "cell_type": "code",
      "source": [
        "import re\n",
        "\n",
        "pattern = re.compile(r'^\\d{1,3}(,\\d{3})*$')\n",
        "\n",
        "numbers = ['42', '1,234', '6,368,745', '12,34,567', '1234']\n",
        "\n",
        "for number in numbers:\n",
        "    match = pattern.match(number)\n",
        "    if match:\n",
        "        print(f\"Match found: {number}\")\n",
        "    else:\n",
        "        print(f\"No match found: {number}\")"
      ],
      "metadata": {
        "colab": {
          "base_uri": "https://localhost:8080/"
        },
        "id": "Hpr0AYLhoz0L",
        "outputId": "91597439-cdaf-4a77-a623-56d5b0824e44"
      },
      "execution_count": 15,
      "outputs": [
        {
          "output_type": "stream",
          "name": "stdout",
          "text": [
            "Match found: 42\n",
            "Match found: 1,234\n",
            "Match found: 6,368,745\n",
            "No match found: 12,34,567\n",
            "No match found: 1234\n"
          ]
        }
      ]
    },
    {
      "cell_type": "markdown",
      "source": [
        "^ asserts the start of the string.\n",
        "\n",
        "\\d{1,3} matches one to three digits.\n",
        "\n",
        "(,\\d{3})* matches zero or more occurrences of a comma followed by exactly three digits.\n",
        "\n",
        "$ asserts the end of the string."
      ],
      "metadata": {
        "id": "yYMY7bYBqPfe"
      }
    },
    {
      "cell_type": "markdown",
      "source": [
        "## 21. How would you write a regex that matches the full name of someone whose last name is Watanabe? You can assume that the first name that comes before it will always be one word that begins with a capital letter. The regex must match the following:\n",
        "\n",
        "Haruto Watanabe\n",
        "\n",
        "Alice Watanabe\n",
        "\n",
        "RoboCop Watanabe\n",
        "\n",
        "but not the following:\n",
        "\n",
        "haruto Watanabe (where the first name is not capitalized)\n",
        "\n",
        "Mr. Watanabe (where the preceding word has a nonletter character)\n",
        "\n",
        "Watanabe (which has no first name)\n",
        "\n",
        "Haruto watanabe (where Watanabe is not capitalized)"
      ],
      "metadata": {
        "id": "YKrRmYMsrcJo"
      }
    },
    {
      "cell_type": "code",
      "source": [
        "import re\n",
        "\n",
        "pattern = re.compile(r'^[A-Z][a-zA-Z]* Watanabe$')\n",
        "\n",
        "names = ['Haruto Watanabe', 'Alice Watanabe', 'RoboCop Watanabe', 'haruto Watanabe', 'Mr. Watanabe', 'Watanabe', 'Haruto watanabe']\n",
        "\n",
        "for name in names:\n",
        "    match = pattern.match(name)\n",
        "    if match:\n",
        "        print(f\"Match found: {name}\")\n",
        "    else:\n",
        "        print(f\"No match found: {name}\")"
      ],
      "metadata": {
        "colab": {
          "base_uri": "https://localhost:8080/"
        },
        "id": "QQOFXVLEqLF5",
        "outputId": "b36401e2-e390-42a1-a7d2-7bd61b785059"
      },
      "execution_count": 16,
      "outputs": [
        {
          "output_type": "stream",
          "name": "stdout",
          "text": [
            "Match found: Haruto Watanabe\n",
            "Match found: Alice Watanabe\n",
            "Match found: RoboCop Watanabe\n",
            "No match found: haruto Watanabe\n",
            "No match found: Mr. Watanabe\n",
            "No match found: Watanabe\n",
            "No match found: Haruto watanabe\n"
          ]
        }
      ]
    },
    {
      "cell_type": "markdown",
      "source": [
        "^ asserts the start of the string.\n",
        "\n",
        "[A-Z] matches an uppercase letter (first letter of the first name).\n",
        "\n",
        "[a-zA-Z]* matches zero or more lowercase or uppercase letters (remaining letters of the first name).\n",
        "matches a space character.\n",
        "\n",
        "Watanabe matches the last name \"Watanabe\" exactly.\n",
        "\n",
        "$ asserts the end of the string."
      ],
      "metadata": {
        "id": "lyfIznIVsl5m"
      }
    },
    {
      "cell_type": "markdown",
      "source": [
        "## 22. How would you write a regex that matches a sentence where the first word is either Alice, Bob,or Carol; the second word is either eats, pets, or throws; the third word is apples, cats, or baseballs;and the sentence ends with a period? This regex should be case-insensitive. It must match the following:\n",
        "\n",
        "Alice eats apples.\n",
        "\n",
        "Bob pets cats.\n",
        "\n",
        "Carol throws baseballs.\n",
        "\n",
        "Alice throws Apples.\n",
        "\n",
        "BOB EATS CATS.\n",
        "\n",
        "but not the following:\n",
        "\n",
        "RoboCop eats apples.\n",
        "\n",
        "ALICE THROWS FOOTBALLS.\n",
        "\n",
        "Carol eats 7 cats."
      ],
      "metadata": {
        "id": "KL-rVD2Ft8Aq"
      }
    },
    {
      "cell_type": "code",
      "source": [
        "import re\n",
        "\n",
        "pattern = re.compile(r'^(Alice|Bob|Carol) (eats|pets|throws) (apples|cats|baseballs)\\.$', re.IGNORECASE)\n",
        "\n",
        "sentences = ['Alice eats apples.', 'Bob pets cats.', 'Carol throws baseballs.', 'Alice throws Apples.', 'BOB EATS CATS.', \n",
        "             'RoboCop eats apples.', 'ALICE THROWS FOOTBALLS.', 'Carol eats 7 cats.']\n",
        "\n",
        "for sentence in sentences:\n",
        "    match = pattern.match(sentence)\n",
        "    if match:\n",
        "        print(f\"Match found: {sentence}\")\n",
        "    else:\n",
        "        print(f\"No match found: {sentence}\")"
      ],
      "metadata": {
        "colab": {
          "base_uri": "https://localhost:8080/"
        },
        "id": "ATe4zsVxshSm",
        "outputId": "0dba6d6f-1093-464f-e84b-a27b99face0a"
      },
      "execution_count": 17,
      "outputs": [
        {
          "output_type": "stream",
          "name": "stdout",
          "text": [
            "Match found: Alice eats apples.\n",
            "Match found: Bob pets cats.\n",
            "Match found: Carol throws baseballs.\n",
            "Match found: Alice throws Apples.\n",
            "Match found: BOB EATS CATS.\n",
            "No match found: RoboCop eats apples.\n",
            "No match found: ALICE THROWS FOOTBALLS.\n",
            "No match found: Carol eats 7 cats.\n"
          ]
        }
      ]
    },
    {
      "cell_type": "markdown",
      "source": [
        "^ asserts the start of the string.\n",
        "\n",
        "(Alice|Bob|Carol) matches one of the specified names: \"Alice\", \"Bob\", or \"Carol\".\n",
        "\n",
        "(eats|pets|throws) matches one of the specified actions: \"eats\", \"pets\", or \"throws\".\n",
        "\n",
        "(apples|cats|baseballs) matches one of the specified objects: \"apples\", \"cats\", or \"baseballs\".\n",
        "\n",
        "\\. matches a period (escaped with a backslash to match the actual period character).\n",
        "\n",
        "$ asserts the end of the string."
      ],
      "metadata": {
        "id": "2VxQcL14u1AM"
      }
    }
  ]
}