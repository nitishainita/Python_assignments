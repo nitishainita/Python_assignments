{
 "cells": [
  {
   "cell_type": "markdown",
   "id": "60fedd6e",
   "metadata": {},
   "source": [
    "### 1.What are the two values of the Boolean data type? How do you write them?"
   ]
  },
  {
   "cell_type": "raw",
   "id": "1d0151d6",
   "metadata": {},
   "source": [
    "The values of boolean datatypes are True and False"
   ]
  },
  {
   "cell_type": "markdown",
   "id": "4f2ee198",
   "metadata": {},
   "source": [
    "### 2. What are the three different types of Boolean operators?"
   ]
  },
  {
   "cell_type": "raw",
   "id": "34e91f03",
   "metadata": {},
   "source": [
    "There are some type of boolean operators are given below-\n",
    "1->and operator\n",
    "2->or operator\n",
    "3-> not operator thies are three boolean operators"
   ]
  },
  {
   "cell_type": "markdown",
   "id": "072099d7",
   "metadata": {},
   "source": [
    "### 3. Make a list of each Boolean operator&#39;s truth tables (i.e. every possible combination of Booleanvalues for the operator and what it evaluate )."
   ]
  },
  {
   "cell_type": "raw",
   "id": "46d3933a",
   "metadata": {},
   "source": [
    "A   B   (A and B)   (A or B)    (not A)\n",
    "0   0      0           0           1\n",
    "0   1      0           1           1\n",
    "1   0      0           1           0 \n",
    "1   1      1           1           0"
   ]
  },
  {
   "cell_type": "markdown",
   "id": "18229244",
   "metadata": {},
   "source": [
    "### 4. What are the values of the following expressions?"
   ]
  },
  {
   "cell_type": "raw",
   "id": "5bf6ea99",
   "metadata": {},
   "source": [
    "(5 > 4) and (3 == 5)\n",
    "not (5 > 4)\n",
    "(5 > 4) or (3 == 5)\n",
    "not ((5 > 4) or (3 == 5))\n",
    "(True and True) and (True == False)\n",
    "(not False) or (not True)"
   ]
  },
  {
   "cell_type": "code",
   "execution_count": 2,
   "id": "95dec2ca",
   "metadata": {},
   "outputs": [
    {
     "data": {
      "text/plain": [
       "False"
      ]
     },
     "execution_count": 2,
     "metadata": {},
     "output_type": "execute_result"
    }
   ],
   "source": [
    "(5 > 4) and (3 == 5)\n"
   ]
  },
  {
   "cell_type": "code",
   "execution_count": 1,
   "id": "d437417f",
   "metadata": {},
   "outputs": [
    {
     "data": {
      "text/plain": [
       "False"
      ]
     },
     "execution_count": 1,
     "metadata": {},
     "output_type": "execute_result"
    }
   ],
   "source": [
    "not (5 > 4)\n"
   ]
  },
  {
   "cell_type": "code",
   "execution_count": 3,
   "id": "2c4535fa",
   "metadata": {},
   "outputs": [
    {
     "data": {
      "text/plain": [
       "True"
      ]
     },
     "execution_count": 3,
     "metadata": {},
     "output_type": "execute_result"
    }
   ],
   "source": [
    "(5 > 4) or (3 == 5)"
   ]
  },
  {
   "cell_type": "code",
   "execution_count": 4,
   "id": "5f0159a6",
   "metadata": {},
   "outputs": [
    {
     "data": {
      "text/plain": [
       "False"
      ]
     },
     "execution_count": 4,
     "metadata": {},
     "output_type": "execute_result"
    }
   ],
   "source": [
    "not ((5 > 4) or (3 == 5))"
   ]
  },
  {
   "cell_type": "code",
   "execution_count": 5,
   "id": "8c0fcf53",
   "metadata": {},
   "outputs": [
    {
     "data": {
      "text/plain": [
       "False"
      ]
     },
     "execution_count": 5,
     "metadata": {},
     "output_type": "execute_result"
    }
   ],
   "source": [
    "(True and True) and (True == False)"
   ]
  },
  {
   "cell_type": "code",
   "execution_count": 6,
   "id": "cb10f6a8",
   "metadata": {},
   "outputs": [
    {
     "data": {
      "text/plain": [
       "True"
      ]
     },
     "execution_count": 6,
     "metadata": {},
     "output_type": "execute_result"
    }
   ],
   "source": [
    "(not False) or (not True)"
   ]
  },
  {
   "cell_type": "markdown",
   "id": "91bdd144",
   "metadata": {},
   "source": [
    "### 5. What are the six comparison operators?"
   ]
  },
  {
   "cell_type": "raw",
   "id": "f50bf8b8",
   "metadata": {},
   "source": [
    "there are six comparison operators->\n",
    ">(greater than),<(less than),==(equal),<=(less than or equal),>=(greater than or equal),!=(not equal to)"
   ]
  },
  {
   "cell_type": "markdown",
   "id": "0aaeb086",
   "metadata": {},
   "source": [
    "### 6. How do you tell the difference between the equal to and assignment operators?Describe a condition and when you would use one."
   ]
  },
  {
   "cell_type": "raw",
   "id": "c95d43b9",
   "metadata": {},
   "source": [
    "equal to(==) is a comperarision operator which is used to compare two values but\n",
    "assignment operator(=) is used to assign the particular value to the particular variable\n",
    "we can uderstand this with a example"
   ]
  },
  {
   "cell_type": "code",
   "execution_count": 8,
   "id": "03254167",
   "metadata": {},
   "outputs": [],
   "source": [
    "a=6  #here we used a assignment operator which means 6 is stored inside variable a"
   ]
  },
  {
   "cell_type": "code",
   "execution_count": 9,
   "id": "c70ebc69",
   "metadata": {},
   "outputs": [
    {
     "data": {
      "text/plain": [
       "6"
      ]
     },
     "execution_count": 9,
     "metadata": {},
     "output_type": "execute_result"
    }
   ],
   "source": [
    "a"
   ]
  },
  {
   "cell_type": "code",
   "execution_count": 10,
   "id": "6b55a61c",
   "metadata": {},
   "outputs": [
    {
     "name": "stdout",
     "output_type": "stream",
     "text": [
      "this is example of equal to operator \n"
     ]
    }
   ],
   "source": [
    "if a==6:#here we used equal to operator compare the values from its left side to its right side\n",
    "    print(\"this is example of equal to operator \")"
   ]
  },
  {
   "cell_type": "raw",
   "id": "da89ced3",
   "metadata": {},
   "source": [
    "### 7. Identify the three blocks in this code:\n",
    "spam = 0\n",
    "if spam == 10:\n",
    "    print('eggs')\n",
    "if spam > 5:\n",
    "    print('bacon')\n",
    "else:\n",
    "    print('ham')\n",
    "    print('spam')\n",
    "    print('spam')"
   ]
  },
  {
   "cell_type": "code",
   "execution_count": 18,
   "id": "2c7f1291",
   "metadata": {},
   "outputs": [
    {
     "name": "stdout",
     "output_type": "stream",
     "text": [
      "ham\n",
      "spam\n",
      "spam\n"
     ]
    }
   ],
   "source": [
    "spam = 0\n",
    "if spam == 10:      #1\n",
    "    print('eggs')\n",
    "if spam > 5:        #2\n",
    "    print('bacon')\n",
    "else:               #3\n",
    "    print('ham')\n",
    "    print('spam')\n",
    "    print('spam')"
   ]
  },
  {
   "cell_type": "markdown",
   "id": "86059ae0",
   "metadata": {},
   "source": [
    "### 8. Write code that prints Hello if 1 is stored in spam, prints Howdy if 2 is stored in spam, and prints Greetings! if anything else is stored in spam."
   ]
  },
  {
   "cell_type": "code",
   "execution_count": 19,
   "id": "21bc1418",
   "metadata": {},
   "outputs": [
    {
     "name": "stdout",
     "output_type": "stream",
     "text": [
      "Greetings!\n"
     ]
    }
   ],
   "source": [
    "if spam==1:\n",
    "    print(\"Hello\")\n",
    "elif spam==2:\n",
    "    print(\"Howdy\")\n",
    "else:\n",
    "    print(\"Greetings!\")"
   ]
  },
  {
   "cell_type": "markdown",
   "id": "6712a3a4",
   "metadata": {},
   "source": [
    "### 9.If your programme is stuck in an endless loop, what keys you’ll press?"
   ]
  },
  {
   "cell_type": "raw",
   "id": "6e286e11",
   "metadata": {},
   "source": [
    "Generally Ctrl + c is used to break the infinite loop but in some other cases like \n",
    "in pycharm we need to use Ctrl+f2 key press to break infinite loop\n",
    "in Jupyter notebook we need to interrupt the kernel to break the infinite loop"
   ]
  },
  {
   "cell_type": "markdown",
   "id": "f8e5390b",
   "metadata": {},
   "source": [
    "### 10. How can you tell the difference between break and continue?"
   ]
  },
  {
   "cell_type": "raw",
   "id": "d283acab",
   "metadata": {},
   "source": [
    "break statements are used to out of any loop like for loop or while loop \n",
    "continue statements are used to skip the all line of code which are below this keyword inside any loop"
   ]
  },
  {
   "cell_type": "code",
   "execution_count": 2,
   "id": "73a03614",
   "metadata": {},
   "outputs": [
    {
     "name": "stdout",
     "output_type": "stream",
     "text": [
      "0\n",
      "1\n",
      "2\n",
      "3\n",
      "4\n",
      "5\n",
      "6\n",
      "7\n",
      "8\n",
      "9\n",
      "10\n",
      "11\n",
      "12\n",
      "13\n",
      "14\n",
      "16\n",
      "17\n"
     ]
    }
   ],
   "source": [
    "for i in range(100):\n",
    "    if i==15:\n",
    "        continue#this will skip the printing process of number 15\n",
    "    if i==18:\n",
    "        break # this will break the loop after this condition is executed\n",
    "    print(i)"
   ]
  },
  {
   "cell_type": "markdown",
   "id": "2685889e",
   "metadata": {},
   "source": [
    "### 11. In a for loop, what is the difference between range(10), range(0, 10), and range(0, 10, 1)?"
   ]
  },
  {
   "cell_type": "code",
   "execution_count": 3,
   "id": "18012c90",
   "metadata": {},
   "outputs": [
    {
     "name": "stdout",
     "output_type": "stream",
     "text": [
      "0\n",
      "1\n",
      "2\n",
      "3\n",
      "4\n",
      "5\n",
      "6\n",
      "7\n",
      "8\n",
      "9\n"
     ]
    }
   ],
   "source": [
    "for i in range(10):\n",
    "    print(i)"
   ]
  },
  {
   "cell_type": "code",
   "execution_count": 4,
   "id": "55c8d460",
   "metadata": {},
   "outputs": [
    {
     "name": "stdout",
     "output_type": "stream",
     "text": [
      "0\n",
      "1\n",
      "2\n",
      "3\n",
      "4\n",
      "5\n",
      "6\n",
      "7\n",
      "8\n",
      "9\n"
     ]
    }
   ],
   "source": [
    "for i in range(0,10):\n",
    "    print(i)"
   ]
  },
  {
   "cell_type": "code",
   "execution_count": 5,
   "id": "59e78dd8",
   "metadata": {},
   "outputs": [
    {
     "name": "stdout",
     "output_type": "stream",
     "text": [
      "0\n",
      "1\n",
      "2\n",
      "3\n",
      "4\n",
      "5\n",
      "6\n",
      "7\n",
      "8\n",
      "9\n"
     ]
    }
   ],
   "source": [
    "for i in range(0,10,1):\n",
    "    print(i)"
   ]
  },
  {
   "cell_type": "raw",
   "id": "2f2822fb",
   "metadata": {},
   "source": [
    "output wise all three gives the same results only change in syntax is the difference \n",
    "in last one 0 is defining the starting point ,10 is defing the one more than ending endex\n",
    "and 1 is denoting the jump size in one time"
   ]
  },
  {
   "cell_type": "markdown",
   "id": "ca5bb1be",
   "metadata": {},
   "source": [
    "### 12. Write a short program that prints the numbers 1 to 10 using a for loop. Then write an equivalent program that prints the numbers 1 to 10 using a while loop."
   ]
  },
  {
   "cell_type": "code",
   "execution_count": 7,
   "id": "d2430ba0",
   "metadata": {},
   "outputs": [
    {
     "name": "stdout",
     "output_type": "stream",
     "text": [
      "1\n",
      "2\n",
      "3\n",
      "4\n",
      "5\n",
      "6\n",
      "7\n",
      "8\n",
      "9\n",
      "10\n"
     ]
    }
   ],
   "source": [
    "for i in range(1,11):\n",
    "    print(i)"
   ]
  },
  {
   "cell_type": "code",
   "execution_count": 9,
   "id": "d917a355",
   "metadata": {},
   "outputs": [
    {
     "name": "stdout",
     "output_type": "stream",
     "text": [
      "1\n",
      "2\n",
      "3\n",
      "4\n",
      "5\n",
      "6\n",
      "7\n",
      "8\n",
      "9\n",
      "10\n"
     ]
    }
   ],
   "source": [
    "i=1\n",
    "while i<11:\n",
    "    print(i)\n",
    "    i+=1"
   ]
  },
  {
   "cell_type": "markdown",
   "id": "cb49b141",
   "metadata": {},
   "source": [
    "### 13. If you had a function named bacon() inside a module named spam, how would you call it after importing spam?"
   ]
  },
  {
   "cell_type": "raw",
   "id": "52bc41c1",
   "metadata": {},
   "source": [
    "the function can be called by spam.bacon()"
   ]
  },
  {
   "cell_type": "code",
   "execution_count": null,
   "id": "55096de8",
   "metadata": {},
   "outputs": [],
   "source": []
  }
 ],
 "metadata": {
  "kernelspec": {
   "display_name": "Python 3 (ipykernel)",
   "language": "python",
   "name": "python3"
  },
  "language_info": {
   "codemirror_mode": {
    "name": "ipython",
    "version": 3
   },
   "file_extension": ".py",
   "mimetype": "text/x-python",
   "name": "python",
   "nbconvert_exporter": "python",
   "pygments_lexer": "ipython3",
   "version": "3.10.1"
  }
 },
 "nbformat": 4,
 "nbformat_minor": 5
}
