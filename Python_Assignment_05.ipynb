{
  "nbformat": 4,
  "nbformat_minor": 0,
  "metadata": {
    "colab": {
      "provenance": []
    },
    "kernelspec": {
      "name": "python3",
      "display_name": "Python 3"
    },
    "language_info": {
      "name": "python"
    }
  },
  "cells": [
    {
      "cell_type": "markdown",
      "source": [
        "1-What does an empty dictionary's code look like?"
      ],
      "metadata": {
        "id": "CnkqtF45lkv7"
      }
    },
    {
      "cell_type": "code",
      "execution_count": 1,
      "metadata": {
        "colab": {
          "base_uri": "https://localhost:8080/",
          "height": 0
        },
        "id": "Lcg5NGVilcdp",
        "outputId": "1d0643f7-1c11-4d2c-ab21-57b7016bde85"
      },
      "outputs": [
        {
          "output_type": "stream",
          "name": "stdout",
          "text": [
            "{}\n"
          ]
        }
      ],
      "source": [
        "#empty dictionary \n",
        "dict1={}\n",
        "print(dict1)"
      ]
    },
    {
      "cell_type": "markdown",
      "source": [
        "**2. What is the value of a dictionary value with the key 'foo' and the value 42?**"
      ],
      "metadata": {
        "id": "invlTu2Ulj97"
      }
    },
    {
      "cell_type": "code",
      "source": [
        "dict2={'foo':42}\n",
        "print(dict2)"
      ],
      "metadata": {
        "colab": {
          "base_uri": "https://localhost:8080/",
          "height": 0
        },
        "id": "fWB4GrPvmXsA",
        "outputId": "d54d1599-b635-45d2-ef11-b60d4c9d58bb"
      },
      "execution_count": 2,
      "outputs": [
        {
          "output_type": "stream",
          "name": "stdout",
          "text": [
            "{'foo': 42}\n"
          ]
        }
      ]
    },
    {
      "cell_type": "code",
      "source": [
        "print(dict2.values())"
      ],
      "metadata": {
        "colab": {
          "base_uri": "https://localhost:8080/",
          "height": 0
        },
        "id": "366nMlzAmjdb",
        "outputId": "1bd7dde7-5bbf-4777-de7f-a0e142b5e44a"
      },
      "execution_count": 7,
      "outputs": [
        {
          "output_type": "stream",
          "name": "stdout",
          "text": [
            "dict_values([42])\n"
          ]
        }
      ]
    },
    {
      "cell_type": "markdown",
      "source": [
        "42 will be dictonary value for dictionary 'dict2' having key value is 'foo'"
      ],
      "metadata": {
        "id": "QIIolBmkm6Wh"
      }
    },
    {
      "cell_type": "markdown",
      "source": [
        "## **3. What is the most significant distinction between a dictionary and a list?**"
      ],
      "metadata": {
        "id": "qXFZ-9kNnYJP"
      }
    },
    {
      "cell_type": "markdown",
      "source": [
        "lists are being used to store ordered and sequencial Data in other hand dictionery is beine used to store large amount of data easy and quick access. "
      ],
      "metadata": {
        "id": "YmK7KzGVn3KL"
      }
    },
    {
      "cell_type": "markdown",
      "source": [
        "### 4. What happens if you try to access spam['foo'] if spam is {'bar': 100}?"
      ],
      "metadata": {
        "id": "4u_23wmjowWK"
      }
    },
    {
      "cell_type": "code",
      "source": [
        "spam={'bar':100}"
      ],
      "metadata": {
        "id": "f7meJKE7nXT_"
      },
      "execution_count": 8,
      "outputs": []
    },
    {
      "cell_type": "code",
      "source": [
        "spam['foo']"
      ],
      "metadata": {
        "colab": {
          "base_uri": "https://localhost:8080/",
          "height": 167
        },
        "id": "28qDU9eFmueF",
        "outputId": "e87301ca-9a71-4ad1-8200-993723d149e1"
      },
      "execution_count": 9,
      "outputs": [
        {
          "output_type": "error",
          "ename": "KeyError",
          "evalue": "ignored",
          "traceback": [
            "\u001b[0;31m---------------------------------------------------------------------------\u001b[0m",
            "\u001b[0;31mKeyError\u001b[0m                                  Traceback (most recent call last)",
            "\u001b[0;32m<ipython-input-9-9b5a94d1de8d>\u001b[0m in \u001b[0;36m<cell line: 1>\u001b[0;34m()\u001b[0m\n\u001b[0;32m----> 1\u001b[0;31m \u001b[0mspam\u001b[0m\u001b[0;34m[\u001b[0m\u001b[0;34m'foo'\u001b[0m\u001b[0;34m]\u001b[0m\u001b[0;34m\u001b[0m\u001b[0;34m\u001b[0m\u001b[0m\n\u001b[0m",
            "\u001b[0;31mKeyError\u001b[0m: 'foo'"
          ]
        }
      ]
    },
    {
      "cell_type": "markdown",
      "source": [
        "this is the answer ,means we got this kind of error if we apply the given conditions."
      ],
      "metadata": {
        "id": "h7GAtUlqpMlk"
      }
    },
    {
      "cell_type": "markdown",
      "source": [
        "### 5. If a dictionary is stored in spam, what is the difference between the expressions 'cat' in spam and 'cat' in spam.keys()?"
      ],
      "metadata": {
        "id": "LMIdeYArpnCU"
      }
    },
    {
      "cell_type": "code",
      "source": [
        "spam={1:{'cat':2}}"
      ],
      "metadata": {
        "id": "ii0J4pBxpIMl"
      },
      "execution_count": 11,
      "outputs": []
    },
    {
      "cell_type": "code",
      "source": [
        "'cat' in spam"
      ],
      "metadata": {
        "colab": {
          "base_uri": "https://localhost:8080/",
          "height": 0
        },
        "id": "Y38D53LyqOPQ",
        "outputId": "848829fd-4998-499a-e5b6-fa96cf57e002"
      },
      "execution_count": 13,
      "outputs": [
        {
          "output_type": "execute_result",
          "data": {
            "text/plain": [
              "False"
            ]
          },
          "metadata": {},
          "execution_count": 13
        }
      ]
    },
    {
      "cell_type": "code",
      "source": [
        "'cat' in spam.keys()"
      ],
      "metadata": {
        "colab": {
          "base_uri": "https://localhost:8080/",
          "height": 0
        },
        "id": "7aHcneK7rHL2",
        "outputId": "7a563c46-71d2-402f-fd37-e5a76ff006e2"
      },
      "execution_count": 14,
      "outputs": [
        {
          "output_type": "execute_result",
          "data": {
            "text/plain": [
              "False"
            ]
          },
          "metadata": {},
          "execution_count": 14
        }
      ]
    },
    {
      "cell_type": "code",
      "source": [
        "'cat' in spam.values()"
      ],
      "metadata": {
        "colab": {
          "base_uri": "https://localhost:8080/",
          "height": 0
        },
        "id": "90B4okKtrSA5",
        "outputId": "83e6737c-f2cc-469a-d61e-0549f0cf92c8"
      },
      "execution_count": 19,
      "outputs": [
        {
          "output_type": "execute_result",
          "data": {
            "text/plain": [
              "False"
            ]
          },
          "metadata": {},
          "execution_count": 19
        }
      ]
    },
    {
      "cell_type": "code",
      "source": [
        "spam2={'cat':{'1':2}}"
      ],
      "metadata": {
        "id": "b4iqNDGRriDF"
      },
      "execution_count": 20,
      "outputs": []
    },
    {
      "cell_type": "code",
      "source": [
        "'cat' in spam2"
      ],
      "metadata": {
        "colab": {
          "base_uri": "https://localhost:8080/",
          "height": 0
        },
        "id": "_Vl291EWrntf",
        "outputId": "56cdac76-bc1a-42c4-d91b-74b6630bfe3d"
      },
      "execution_count": 21,
      "outputs": [
        {
          "output_type": "execute_result",
          "data": {
            "text/plain": [
              "True"
            ]
          },
          "metadata": {},
          "execution_count": 21
        }
      ]
    },
    {
      "cell_type": "code",
      "source": [
        "'cat' in spam2.keys()"
      ],
      "metadata": {
        "colab": {
          "base_uri": "https://localhost:8080/",
          "height": 0
        },
        "id": "Ds5cuONvsKJU",
        "outputId": "0f05408a-986d-4d0a-bc73-fcc3f22d4c1a"
      },
      "execution_count": 22,
      "outputs": [
        {
          "output_type": "execute_result",
          "data": {
            "text/plain": [
              "True"
            ]
          },
          "metadata": {},
          "execution_count": 22
        }
      ]
    },
    {
      "cell_type": "code",
      "source": [
        "'cat' in spam2.values()"
      ],
      "metadata": {
        "colab": {
          "base_uri": "https://localhost:8080/",
          "height": 0
        },
        "id": "ZOpSdLjWsPHZ",
        "outputId": "487f82eb-c67e-4281-9ffc-37cbe40a6bb6"
      },
      "execution_count": 23,
      "outputs": [
        {
          "output_type": "execute_result",
          "data": {
            "text/plain": [
              "False"
            ]
          },
          "metadata": {},
          "execution_count": 23
        }
      ]
    },
    {
      "cell_type": "markdown",
      "source": [
        "There is no difference. The in operator checks whether a value exists as a key in the dictionary. 'cat' in spam checks whether there is a 'cat' key in the dictionary, while 'cat' in spam. values() checks whether there is a value 'cat' for one of the keys in spam ."
      ],
      "metadata": {
        "id": "gLAwCM2bsWSP"
      }
    },
    {
      "cell_type": "markdown",
      "source": [
        "### 6. If a dictionary is stored in spam, what is the difference between the expressions 'cat' in spam and 'cat' in spam.values()?"
      ],
      "metadata": {
        "id": "72At5Ljqsf0E"
      }
    },
    {
      "cell_type": "code",
      "source": [
        "'cat' in spam2"
      ],
      "metadata": {
        "colab": {
          "base_uri": "https://localhost:8080/",
          "height": 0
        },
        "id": "lRLxLKOysS1q",
        "outputId": "1bda894b-12a2-4ac9-ac56-5d6e66053b79"
      },
      "execution_count": 24,
      "outputs": [
        {
          "output_type": "execute_result",
          "data": {
            "text/plain": [
              "True"
            ]
          },
          "metadata": {},
          "execution_count": 24
        }
      ]
    },
    {
      "cell_type": "markdown",
      "source": [
        "This is checking whether 'cat' is present in spam2.keys() or not."
      ],
      "metadata": {
        "id": "Q1Ar_GwksxWF"
      }
    },
    {
      "cell_type": "code",
      "source": [
        "'cat' in spam2.values()"
      ],
      "metadata": {
        "colab": {
          "base_uri": "https://localhost:8080/",
          "height": 0
        },
        "id": "H3vsRAdusnhK",
        "outputId": "f17d16de-8e1f-43d7-cb11-b0970bece517"
      },
      "execution_count": 25,
      "outputs": [
        {
          "output_type": "execute_result",
          "data": {
            "text/plain": [
              "False"
            ]
          },
          "metadata": {},
          "execution_count": 25
        }
      ]
    },
    {
      "cell_type": "markdown",
      "source": [
        "This is checking 'cat' is present in spam2.values() or not."
      ],
      "metadata": {
        "id": "fwnZ35GltB7y"
      }
    },
    {
      "cell_type": "markdown",
      "source": [
        "## 7. What is a shortcut for the following code?\n",
        "\n",
        "\n",
        "1.   if 'color' not in spam:\n",
        "2.   spam['color'] = 'black'\n",
        "\n",
        "\n",
        "\n",
        "\n",
        "\n",
        "\n"
      ],
      "metadata": {
        "id": "F__8jO2vtgj7"
      }
    },
    {
      "cell_type": "code",
      "source": [
        "spam.setdefault('color', 'black')"
      ],
      "metadata": {
        "colab": {
          "base_uri": "https://localhost:8080/",
          "height": 35
        },
        "id": "9Yel82q6spt4",
        "outputId": "5270cf48-4de9-4e14-f73b-608d31917c7a"
      },
      "execution_count": 26,
      "outputs": [
        {
          "output_type": "execute_result",
          "data": {
            "text/plain": [
              "'black'"
            ],
            "application/vnd.google.colaboratory.intrinsic+json": {
              "type": "string"
            }
          },
          "metadata": {},
          "execution_count": 26
        }
      ]
    },
    {
      "cell_type": "markdown",
      "source": [
        "## 8. How do you \"pretty print\" dictionary values using which module and function?"
      ],
      "metadata": {
        "id": "Bya0i8iuvc7C"
      }
    },
    {
      "cell_type": "code",
      "source": [
        "import pprint\n",
        "\n",
        "my_dict = {'key1': 'value1', 'key2': 'value2', 'key3': 'value3'}\n",
        "pprint.pprint(my_dict)"
      ],
      "metadata": {
        "colab": {
          "base_uri": "https://localhost:8080/",
          "height": 0
        },
        "id": "eLUUmekyvRMd",
        "outputId": "0aa858aa-8ca0-4a94-c72e-0cd42b00a0b4"
      },
      "execution_count": 27,
      "outputs": [
        {
          "output_type": "stream",
          "name": "stdout",
          "text": [
            "{'key1': 'value1', 'key2': 'value2', 'key3': 'value3'}\n"
          ]
        }
      ]
    },
    {
      "cell_type": "markdown",
      "source": [
        "module name is pprint and\n",
        "\n",
        "function name pprint()"
      ],
      "metadata": {
        "id": "JlA6WymMv2LM"
      }
    },
    {
      "cell_type": "code",
      "source": [],
      "metadata": {
        "id": "srtdclRDwAHO"
      },
      "execution_count": null,
      "outputs": []
    }
  ]
}