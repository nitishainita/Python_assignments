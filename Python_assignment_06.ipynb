{
  "nbformat": 4,
  "nbformat_minor": 0,
  "metadata": {
    "colab": {
      "provenance": []
    },
    "kernelspec": {
      "name": "python3",
      "display_name": "Python 3"
    },
    "language_info": {
      "name": "python"
    }
  },
  "cells": [
    {
      "cell_type": "markdown",
      "source": [
        "\n",
        "### 1. What are escape characters, and how do you use them?\n"
      ],
      "metadata": {
        "id": "yHfTnOoZrpw0"
      }
    },
    {
      "cell_type": "markdown",
      "source": [
        "Escape characters are special charecters that are used to represent certain action or charecters that can not be directly typed or interpreted in a programming language or text.They are typically represented by a backslash() followed by specific character or seauence.\n",
        "\n",
        "example-\n",
        "\n",
        "1-> Newline(\\n) used as  \"Hello\\nWorld\"\n",
        "\n",
        "2->Tab(\\t) used as \"Hello\\tWorld\""
      ],
      "metadata": {
        "id": "qpRE-obmuqey"
      }
    },
    {
      "cell_type": "markdown",
      "source": [
        "2. What do the escape characters n and t stand for?"
      ],
      "metadata": {
        "id": "ShHWlitbwF7l"
      }
    },
    {
      "cell_type": "markdown",
      "source": [
        "Answer for this Question is already explained in previous question."
      ],
      "metadata": {
        "id": "R1RqD4tXwKAK"
      }
    },
    {
      "cell_type": "markdown",
      "source": [
        "3-What is the way to include backslash characters in a string?\n"
      ],
      "metadata": {
        "id": "FwvLCGd0w9KS"
      }
    },
    {
      "cell_type": "markdown",
      "source": [
        "By Using double backslash in a string we can include backslash in a string."
      ],
      "metadata": {
        "id": "0BrOzYoAxCYc"
      }
    },
    {
      "cell_type": "code",
      "execution_count": 4,
      "metadata": {
        "id": "-_REYdmarbpl"
      },
      "outputs": [],
      "source": [
        "s=\"hello\\\\world\""
      ]
    },
    {
      "cell_type": "code",
      "source": [
        "print(s)"
      ],
      "metadata": {
        "colab": {
          "base_uri": "https://localhost:8080/"
        },
        "id": "Ka6N7aejxr3U",
        "outputId": "4fe6c044-f9a5-4fb7-9bc0-e15ad5f5ad4e"
      },
      "execution_count": 5,
      "outputs": [
        {
          "output_type": "stream",
          "name": "stdout",
          "text": [
            "hello\\world\n"
          ]
        }
      ]
    },
    {
      "cell_type": "markdown",
      "source": [
        "### 4-The string \"Howl's Moving Castle\" is a correct value. Why isn't the single quote character in the word Howl's not escaped a problem?"
      ],
      "metadata": {
        "id": "jU4PYaXwywL_"
      }
    },
    {
      "cell_type": "markdown",
      "source": [
        "In this double quote \" \" is handling the pointed error because in programming is significantly handled so that Howl's kind word which contain single quote will not throught any kind of error.\n",
        "\n",
        "if this string would have written in this way 'Howl's Moving Castle' then could have treated in different way."
      ],
      "metadata": {
        "id": "BIi0a2uCy0ec"
      }
    },
    {
      "cell_type": "markdown",
      "source": [
        "5. How do you write a string of newlines if you don't want to use the n character?"
      ],
      "metadata": {
        "id": "SCir01VQ1Gdj"
      }
    },
    {
      "cell_type": "markdown",
      "source": [
        "If we want to write a string that includes newlines without using the \"\\n\" character, we can use multi-line string literals or concatenate multiple strings to achieve the desired result. Here's an example:\n",
        "\n",
        "In Python, we can use triple quotes (either single or double) to create multi-line string literals. By pressing Enter to start a new line within the triple quotes, we can include newlines directly in the string-"
      ],
      "metadata": {
        "id": "aIe6EL3E0T0U"
      }
    },
    {
      "cell_type": "code",
      "source": [
        "s1=\"\"\"hi\n",
        "this is\n",
        "Nitish Kumar\"\"\""
      ],
      "metadata": {
        "id": "IAuYi_dSxn7K"
      },
      "execution_count": 7,
      "outputs": []
    },
    {
      "cell_type": "code",
      "source": [
        "print(s1)"
      ],
      "metadata": {
        "colab": {
          "base_uri": "https://localhost:8080/"
        },
        "id": "EOMdZtoL0trU",
        "outputId": "54f019b6-d290-4fe0-e080-85d7282e891d"
      },
      "execution_count": 9,
      "outputs": [
        {
          "output_type": "stream",
          "name": "stdout",
          "text": [
            "hi\n",
            "this is\n",
            "Nitish Kumar\n"
          ]
        }
      ]
    },
    {
      "cell_type": "markdown",
      "source": [
        "### 6. What are the values of the given expressions?\n",
        "'Hello, world!'[1]\n",
        "\n",
        "'Hello, world!'[0:5]\n",
        "\n",
        "'Hello, world!'[:5]\n",
        "\n",
        "'Hello, world!'[3:]\n"
      ],
      "metadata": {
        "id": "zwAiAOCk1L53"
      }
    },
    {
      "cell_type": "code",
      "source": [
        "'Hello, world!'[1]"
      ],
      "metadata": {
        "colab": {
          "base_uri": "https://localhost:8080/",
          "height": 36
        },
        "id": "Z9DssMLB00kB",
        "outputId": "7e3a187b-19ab-4f55-9edd-f1997e97ccb8"
      },
      "execution_count": 11,
      "outputs": [
        {
          "output_type": "execute_result",
          "data": {
            "text/plain": [
              "'e'"
            ],
            "application/vnd.google.colaboratory.intrinsic+json": {
              "type": "string"
            }
          },
          "metadata": {},
          "execution_count": 11
        }
      ]
    },
    {
      "cell_type": "code",
      "source": [
        "'Hello, world!'[0:5]"
      ],
      "metadata": {
        "colab": {
          "base_uri": "https://localhost:8080/",
          "height": 36
        },
        "id": "ZPFsgKXH1V7U",
        "outputId": "f9f11bf9-4d5a-4bfb-9a31-fe57592ae911"
      },
      "execution_count": 12,
      "outputs": [
        {
          "output_type": "execute_result",
          "data": {
            "text/plain": [
              "'Hello'"
            ],
            "application/vnd.google.colaboratory.intrinsic+json": {
              "type": "string"
            }
          },
          "metadata": {},
          "execution_count": 12
        }
      ]
    },
    {
      "cell_type": "code",
      "source": [
        "'Hello, world!'[:5]"
      ],
      "metadata": {
        "colab": {
          "base_uri": "https://localhost:8080/",
          "height": 36
        },
        "id": "MFDmIaLZ1bKP",
        "outputId": "c3e17a23-c329-4ad2-8141-0fab22650312"
      },
      "execution_count": 13,
      "outputs": [
        {
          "output_type": "execute_result",
          "data": {
            "text/plain": [
              "'Hello'"
            ],
            "application/vnd.google.colaboratory.intrinsic+json": {
              "type": "string"
            }
          },
          "metadata": {},
          "execution_count": 13
        }
      ]
    },
    {
      "cell_type": "code",
      "source": [
        "'Hello, world!'[3:]"
      ],
      "metadata": {
        "colab": {
          "base_uri": "https://localhost:8080/",
          "height": 36
        },
        "id": "H9m1SZxo1eFx",
        "outputId": "8ce41a49-f3c7-4a7c-c503-36d07f5873b4"
      },
      "execution_count": 14,
      "outputs": [
        {
          "output_type": "execute_result",
          "data": {
            "text/plain": [
              "'lo, world!'"
            ],
            "application/vnd.google.colaboratory.intrinsic+json": {
              "type": "string"
            }
          },
          "metadata": {},
          "execution_count": 14
        }
      ]
    },
    {
      "cell_type": "markdown",
      "source": [
        "### 7. What are the values of the following expressions?\n",
        "'Hello'.upper()\n",
        "\n",
        "'Hello'.upper().isupper()\n",
        "\n",
        "'Hello'.upper().lower()\n"
      ],
      "metadata": {
        "id": "b71lxK8x1lqO"
      }
    },
    {
      "cell_type": "code",
      "source": [
        "'Hello'.upper()"
      ],
      "metadata": {
        "colab": {
          "base_uri": "https://localhost:8080/",
          "height": 36
        },
        "id": "EDUWf6xG1f3J",
        "outputId": "02a2eafd-4164-490f-dbd3-af0fb437535e"
      },
      "execution_count": 15,
      "outputs": [
        {
          "output_type": "execute_result",
          "data": {
            "text/plain": [
              "'HELLO'"
            ],
            "application/vnd.google.colaboratory.intrinsic+json": {
              "type": "string"
            }
          },
          "metadata": {},
          "execution_count": 15
        }
      ]
    },
    {
      "cell_type": "code",
      "source": [
        "'Hello'.upper().isupper()"
      ],
      "metadata": {
        "colab": {
          "base_uri": "https://localhost:8080/"
        },
        "id": "YV87MRFd1rCB",
        "outputId": "4f80a596-fb20-41e9-e679-5c79acfa8565"
      },
      "execution_count": 16,
      "outputs": [
        {
          "output_type": "execute_result",
          "data": {
            "text/plain": [
              "True"
            ]
          },
          "metadata": {},
          "execution_count": 16
        }
      ]
    },
    {
      "cell_type": "code",
      "source": [
        "'Hello'.upper().lower()"
      ],
      "metadata": {
        "colab": {
          "base_uri": "https://localhost:8080/",
          "height": 36
        },
        "id": "fHa6R_Nn1tX5",
        "outputId": "013746c4-4d09-4a34-fc26-acab968627e7"
      },
      "execution_count": 17,
      "outputs": [
        {
          "output_type": "execute_result",
          "data": {
            "text/plain": [
              "'hello'"
            ],
            "application/vnd.google.colaboratory.intrinsic+json": {
              "type": "string"
            }
          },
          "metadata": {},
          "execution_count": 17
        }
      ]
    },
    {
      "cell_type": "markdown",
      "source": [
        "## 8. What are the values of the following expressions?\n",
        "'Remember, remember, the fifth of July.'.split()\n",
        "\n",
        "'-'.join('There can only one.'.split())\n"
      ],
      "metadata": {
        "id": "0VfhIiGG1504"
      }
    },
    {
      "cell_type": "code",
      "source": [
        "'Remember, remember, the fifth of July.'.split()"
      ],
      "metadata": {
        "colab": {
          "base_uri": "https://localhost:8080/"
        },
        "id": "ufSVX4jc1xIP",
        "outputId": "0a192983-ff3d-40e3-cdc5-6f283dd50832"
      },
      "execution_count": 18,
      "outputs": [
        {
          "output_type": "execute_result",
          "data": {
            "text/plain": [
              "['Remember,', 'remember,', 'the', 'fifth', 'of', 'July.']"
            ]
          },
          "metadata": {},
          "execution_count": 18
        }
      ]
    },
    {
      "cell_type": "code",
      "source": [
        "'-'.join('There can only one.'.split())"
      ],
      "metadata": {
        "colab": {
          "base_uri": "https://localhost:8080/",
          "height": 36
        },
        "id": "QdTVaMpx2CBh",
        "outputId": "975f4454-8bb1-4b97-9a76-7a7a7266d89e"
      },
      "execution_count": 19,
      "outputs": [
        {
          "output_type": "execute_result",
          "data": {
            "text/plain": [
              "'There-can-only-one.'"
            ],
            "application/vnd.google.colaboratory.intrinsic+json": {
              "type": "string"
            }
          },
          "metadata": {},
          "execution_count": 19
        }
      ]
    },
    {
      "cell_type": "markdown",
      "source": [
        "9. What are the methods for right-justifying, left-justifying, and centering a string?"
      ],
      "metadata": {
        "id": "YAt4kaD-2-Nx"
      }
    },
    {
      "cell_type": "code",
      "source": [
        "#Right-justifying\n",
        "my_string = \"Hello\"\n",
        "right_justified = my_string.rjust(10,'-')\n",
        "print(right_justified)"
      ],
      "metadata": {
        "colab": {
          "base_uri": "https://localhost:8080/"
        },
        "id": "F29XxeNm2Ftp",
        "outputId": "118af277-0caf-47fe-8383-0d9971c01f61"
      },
      "execution_count": 22,
      "outputs": [
        {
          "output_type": "stream",
          "name": "stdout",
          "text": [
            "-----Hello\n"
          ]
        }
      ]
    },
    {
      "cell_type": "code",
      "source": [
        "#left-justifying\n",
        "my_string = \"Hello\"\n",
        "left_justified = my_string.ljust(10,'-')\n",
        "print(left_justified) \n"
      ],
      "metadata": {
        "colab": {
          "base_uri": "https://localhost:8080/"
        },
        "id": "QntbcBIG3Ntg",
        "outputId": "5445d07e-1477-4718-c1ec-fb5f5d718960"
      },
      "execution_count": 23,
      "outputs": [
        {
          "output_type": "stream",
          "name": "stdout",
          "text": [
            "Hello-----\n"
          ]
        }
      ]
    },
    {
      "cell_type": "code",
      "source": [
        "#centering\n",
        "my_string = \"Hello\"\n",
        "left_justified = my_string.center(10,'-')\n",
        "print(left_justified)"
      ],
      "metadata": {
        "colab": {
          "base_uri": "https://localhost:8080/"
        },
        "id": "1ckThuT53hrf",
        "outputId": "42a8a7c8-864b-4efa-810d-1885439da613"
      },
      "execution_count": 25,
      "outputs": [
        {
          "output_type": "stream",
          "name": "stdout",
          "text": [
            "--Hello---\n"
          ]
        }
      ]
    },
    {
      "cell_type": "markdown",
      "source": [
        "10- What is the best way to remove whitespace characters from the start or end?"
      ],
      "metadata": {
        "id": "Yxszr0mN4N5l"
      }
    },
    {
      "cell_type": "code",
      "source": [
        "#str.strip() for removing white spaces from left and right of string.\n",
        "my_string = \"  Hello, World!  \"\n",
        "stripped_string = my_string.strip()\n",
        "print(stripped_string)"
      ],
      "metadata": {
        "colab": {
          "base_uri": "https://localhost:8080/"
        },
        "id": "ZtUIOvG83sJY",
        "outputId": "e37691d1-ade9-4450-bae9-e9dd9ed6cc89"
      },
      "execution_count": 28,
      "outputs": [
        {
          "output_type": "stream",
          "name": "stdout",
          "text": [
            "Hello, World!\n"
          ]
        }
      ]
    },
    {
      "cell_type": "code",
      "source": [
        "#str.lstrip() for left removal of whitespaces\n",
        "my_string = \"  Hello, World!  \"\n",
        "left_stripped_string = my_string.lstrip()\n",
        "print(left_stripped_string) "
      ],
      "metadata": {
        "colab": {
          "base_uri": "https://localhost:8080/"
        },
        "id": "6vErG-Qf4ks2",
        "outputId": "1ba2d93e-b34c-451f-92ec-cd0f9a8673dd"
      },
      "execution_count": 29,
      "outputs": [
        {
          "output_type": "stream",
          "name": "stdout",
          "text": [
            "Hello, World!  \n"
          ]
        }
      ]
    },
    {
      "cell_type": "code",
      "source": [
        "#str.rstrip() for right removal of whitespaces\n",
        "my_string = \"  Hello, World!  \"\n",
        "right_stripped_string = my_string.rstrip()\n",
        "print(right_stripped_string)"
      ],
      "metadata": {
        "colab": {
          "base_uri": "https://localhost:8080/"
        },
        "id": "NTaCeGf64yMi",
        "outputId": "101c00b3-c73b-41e0-e84c-79e86db266b6"
      },
      "execution_count": 30,
      "outputs": [
        {
          "output_type": "stream",
          "name": "stdout",
          "text": [
            "  Hello, World!\n"
          ]
        }
      ]
    }
  ]
}