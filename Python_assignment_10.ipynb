{
  "nbformat": 4,
  "nbformat_minor": 0,
  "metadata": {
    "colab": {
      "provenance": [],
      "mount_file_id": "1fvMiUDeicDoHLALla3g3fImv24Icpbs1",
      "authorship_tag": "ABX9TyPVchQp0LxT/gaVPfHHnUE7",
      "include_colab_link": true
    },
    "kernelspec": {
      "name": "python3",
      "display_name": "Python 3"
    },
    "language_info": {
      "name": "python"
    }
  },
  "cells": [
    {
      "cell_type": "markdown",
      "metadata": {
        "id": "view-in-github",
        "colab_type": "text"
      },
      "source": [
        "<a href=\"https://colab.research.google.com/github/nitishainita/Python_assignments/blob/main/Python_assignment_10.ipynb\" target=\"_parent\"><img src=\"https://colab.research.google.com/assets/colab-badge.svg\" alt=\"Open In Colab\"/></a>"
      ]
    },
    {
      "cell_type": "markdown",
      "source": [
        "## 1. How do you distinguish between shutil.copy() and shutil.copytree()?"
      ],
      "metadata": {
        "id": "jiI6CyJXAjn3"
      }
    },
    {
      "cell_type": "markdown",
      "source": [
        "**shutil.copy(source, destination)**: This function is used to copy a single file from the source  to the destination . It takes two arguments: the path to the source file and the path to the destination directory or file. If the destination is a directory, the source file will be copied with the same filename to that directory. If the destination is a file path, the source file will be copied and renamed to the specified filename. If the destination file already exists, it will be overwritten."
      ],
      "metadata": {
        "id": "SoI-pzvSAl_C"
      }
    },
    {
      "cell_type": "code",
      "execution_count": null,
      "metadata": {
        "id": "ZSRnftdCAY82"
      },
      "outputs": [],
      "source": [
        "import shutil\n",
        "\n",
        "source_file = '/path/to/source/file.txt'\n",
        "destination_dir = '/path/to/destination/directory/'\n",
        "\n",
        "shutil.copy(source_file, destination_dir)  # Copy source file to destination directory"
      ]
    },
    {
      "cell_type": "markdown",
      "source": [
        "**shutil.copytree(source, destination)**: This function is used to copy an entire directory tree from the source to the destination. It recursively copies all files and subdirectories from the source directory to the destination directory. If the destination directory already exists, it will raise an error. The destination directory will be created if it doesn't exis"
      ],
      "metadata": {
        "id": "51E8sPbHB40M"
      }
    },
    {
      "cell_type": "code",
      "source": [
        "import shutil\n",
        "\n",
        "source_dir = '/path/to/source/directory/'\n",
        "destination_dir = '/path/to/destination/directory/'\n",
        "\n",
        "shutil.copytree(source_dir, destination_dir)  # Copy entire directory tree to destination directory"
      ],
      "metadata": {
        "id": "XKuueImRCEzx"
      },
      "execution_count": null,
      "outputs": []
    },
    {
      "cell_type": "markdown",
      "source": [
        "## 2-What function is used to rename files??"
      ],
      "metadata": {
        "id": "m6UtZT527bBG"
      }
    },
    {
      "cell_type": "markdown",
      "source": [
        "The os module provides the rename() function to rename files"
      ],
      "metadata": {
        "id": "iMpxFlwQ7d0x"
      }
    },
    {
      "cell_type": "code",
      "source": [
        "import os\n",
        "os.rename(\"old_file.txt\", \"new_file.txt\")"
      ],
      "metadata": {
        "id": "K8Fo1Vkf7kFI"
      },
      "execution_count": null,
      "outputs": []
    },
    {
      "cell_type": "markdown",
      "source": [
        "## 3. What is the difference between the delete functions in the send2trash and shutil modules?"
      ],
      "metadata": {
        "id": "UymcgM297nvn"
      }
    },
    {
      "cell_type": "markdown",
      "source": [
        "The send2trash module moves files and directories to the trash or recycle bin, allowing for recovery, while the shutil module directly and permanently deletes files and directories without the possibility of recovery."
      ],
      "metadata": {
        "id": "rWYsAePG74ga"
      }
    },
    {
      "cell_type": "code",
      "source": [
        "import send2trash # Send a file or directory to the trash\n",
        "send2trash.send2trash(\"file.txt\")"
      ],
      "metadata": {
        "id": "nH9ufr-z8MSW"
      },
      "execution_count": null,
      "outputs": []
    },
    {
      "cell_type": "code",
      "source": [
        "import shutil  # Delete a directory and its contents\n",
        "shutil.rmtree(\"directory\")"
      ],
      "metadata": {
        "id": "XR_Ug9X18N7d"
      },
      "execution_count": null,
      "outputs": []
    },
    {
      "cell_type": "markdown",
      "source": [
        "### 4.ZipFile objects have a close() method just like File objects’ close() method. What ZipFile method is equivalent to File objects’ open() method?"
      ],
      "metadata": {
        "id": "y_-KhZBE8A5q"
      }
    },
    {
      "cell_type": "markdown",
      "source": [
        "They are not equivalent in functionality,While both methods have the same name, they serve different purposes. The close() method in ZipFile is specific to working with ZIP archives, whereas the close() method in file objects is used for general file handling."
      ],
      "metadata": {
        "id": "4lFVCOCi8tfF"
      }
    },
    {
      "cell_type": "markdown",
      "source": [
        "### 5-Create a programme that searches a folder tree for files with a certain file extension (such as .pdf or .jpg). Copy these files from whatever location they are in to a new folder."
      ],
      "metadata": {
        "id": "xjnGpEzD-CIb"
      }
    },
    {
      "cell_type": "code",
      "source": [
        "import os\n",
        "import shutil\n",
        "\n",
        "def func(source_folder, target_folder, file_extension):\n",
        "    # Creating the target folder if it doesn't exist\n",
        "    if not os.path.exists(target_folder):\n",
        "        os.makedirs(target_folder)\n",
        "\n",
        "    # Walk through the source folder and its subdirectories\n",
        "    for root, dirs, files in os.walk(source_folder):\n",
        "        for file in files:\n",
        "            # Checking if the file has the desired extension\n",
        "            if file.endswith(file_extension):\n",
        "                source_file_path = os.path.join(source_folder, file)\n",
        "                target_file_path = os.path.join(target_folder, file)\n",
        "\n",
        "                # Copy the file to the target folder\n",
        "                shutil.copy2(source_file_path, target_file_path)\n",
        "\n",
        "source_folder = \"/content/drive/MyDrive/pics/\"\n",
        "target_folder = \"/content/drive/MyDrive/CV\"\n",
        "file_extension = \".jpg\""
      ],
      "metadata": {
        "id": "80O2rfik_BoT"
      },
      "execution_count": 7,
      "outputs": []
    },
    {
      "cell_type": "code",
      "source": [
        "func(source_folder, target_folder, file_extension)"
      ],
      "metadata": {
        "id": "tmFI0RDbAwWz"
      },
      "execution_count": 8,
      "outputs": []
    }
  ]
}